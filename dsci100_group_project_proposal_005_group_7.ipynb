{
 "cells": [
  {
   "cell_type": "markdown",
   "id": "2a92b66a-2b91-4070-b42d-666e45b7a7cc",
   "metadata": {},
   "source": [
    "Group Project Proposal"
   ]
  },
  {
   "cell_type": "code",
   "execution_count": null,
   "id": "30d98c43-e80c-4bc3-b1c6-a248a3e53d5e",
   "metadata": {},
   "outputs": [],
   "source": [
    "Specific expectations for the proposal:\n",
    "\n",
    "Each group is expected to prepare a 1 page (max 500 words) written proposal that identifies the dataset they plan to work on, \n",
    "as well as the question they would like to answer using that dataset for their group project. \n",
    "The proposal should be done in a Jupyter notebook, and then submitted both as an\n",
    ".html file (File -> Download As -> HTML) and an .ipynb file that is reproducible \n",
    "(i.e. works and runs without any additional files.)\n",
    "\n",
    "Each proposal should include the following sections:"
   ]
  },
  {
   "cell_type": "code",
   "execution_count": null,
   "id": "3a0306aa-9256-43c5-9b62-4dbcb682b72a",
   "metadata": {},
   "outputs": [],
   "source": [
    "Title:\n",
    "\n",
    "\"Predicting the real price of an Airbnb rental in Paris on a Weekday\""
   ]
  },
  {
   "cell_type": "code",
   "execution_count": null,
   "id": "b0f6bb86-0f85-4e14-95be-87d6e959cb33",
   "metadata": {},
   "outputs": [],
   "source": [
    "Introduction:\n",
    "\n",
    "Provide some relevant background information on the topic so that someone unfamiliar with it will \n",
    "be prepared to understand the rest of your proposal\n",
    "Clearly state the question you will try to answer with your project\n",
    "Identify and describe the dataset that will be used to answer the question"
   ]
  },
  {
   "cell_type": "code",
   "execution_count": null,
   "id": "f52b0d81-a3f4-4638-a345-b9d88191e59b",
   "metadata": {},
   "outputs": [],
   "source": [
    "Preliminary exploratory data analysis:\n",
    "\n",
    "Demonstrate that the dataset can be read from the web into R \n",
    "Clean and wrangle your data into a tidy format\n",
    "Using only training data, summarize the data in at least one table (this is exploratory data analysis). \n",
    "An example of a useful table could be one that reports the number of observations in each class, \n",
    "the means of the predictor variables you plan to use in your analysis and how many rows have missing data. \n",
    "Using only training data, visualize the data with at least one plot relevant to the analysis you plan to do \n",
    "(this is exploratory data analysis). An example of a useful visualization could be one that compares the \n",
    "distributions of each of the predictor variables you plan to use in your analysis."
   ]
  },
  {
   "cell_type": "code",
   "execution_count": null,
   "id": "f6392968-63c1-440f-9b15-c2bf3bfb3f8c",
   "metadata": {},
   "outputs": [],
   "source": [
    "Methods:\n",
    "\n",
    "Explain how you will conduct either your data analysis and which variables/columns you will use. \n",
    "Note - you do not need to use all variables/columns that exist in the raw data set. In fact, that is often not a good idea. \n",
    "For each variable think: is this a useful variable for prediction?\n",
    "Describe at least one way that you will visualize the results"
   ]
  },
  {
   "cell_type": "code",
   "execution_count": null,
   "id": "a7d02b5a-7002-4f08-9d15-ec8cf5e30b89",
   "metadata": {},
   "outputs": [],
   "source": [
    "Expected outcomes and significance:\n",
    "\n",
    "What do you expect to find?\n",
    "What impact could such findings have?\n",
    "What future questions could this lead to?"
   ]
  },
  {
   "cell_type": "code",
   "execution_count": null,
   "id": "35553feb-ba68-4d81-872d-c7b953d049b7",
   "metadata": {},
   "outputs": [],
   "source": [
    "Please submit your group project proposal. Only one member of your team needs to submit."
   ]
  }
 ],
 "metadata": {
  "kernelspec": {
   "display_name": "R",
   "language": "R",
   "name": "ir"
  },
  "language_info": {
   "codemirror_mode": "r",
   "file_extension": ".r",
   "mimetype": "text/x-r-source",
   "name": "R",
   "pygments_lexer": "r",
   "version": "4.1.3"
  }
 },
 "nbformat": 4,
 "nbformat_minor": 5
}

{
 "cells": [
  {
   "cell_type": "markdown",
   "id": "2a92b66a-2b91-4070-b42d-666e45b7a7cc",
   "metadata": {},
   "source": [
    "Group Project Proposal"
   ]
  },
  {
   "cell_type": "code",
   "execution_count": null,
   "id": "30d98c43-e80c-4bc3-b1c6-a248a3e53d5e",
   "metadata": {},
   "outputs": [],
   "source": [
    "Specific expectations for the proposal:\n",
    "Each group is expected to prepare a 1 page (max 500 words) written proposal that identifies the dataset they plan to work on, \n",
    "as well as the question they would like to answer using that dataset for their group project. \n",
    "The proposal should be done in a Jupyter notebook, and then submitted both as an\n",
    ".html file (File -> Download As -> HTML) and an .ipynb file that is reproducible \n",
    "(i.e. works and runs without any additional files.)\n",
    "\n",
    "Each proposal should include the following sections:\n",
    "\n",
    "Title:\n",
    "\"Predicting the real price of an Airbnb rental in Paris on a Weekday\"\n",
    "\n",
    "Introduction:\n",
    "Provide some relevant background information on the topic so that someone unfamiliar with it will \n",
    "be prepared to understand the rest of your proposal\n",
    "Clearly state the question you will try to answer with your project\n",
    "Identify and describe the dataset that will be used to answer the question\n",
    "\n",
    "Preliminary exploratory data analysis:\n",
    "Demonstrate that the dataset can be read from the web into R \n",
    "Clean and wrangle your data into a tidy format\n",
    "Using only training data, summarize the data in at least one table (this is exploratory data analysis). \n",
    "An example of a useful table could be one that reports the number of observations in each class, \n",
    "the means of the predictor variables you plan to use in your analysis and how many rows have missing data. \n",
    "Using only training data, visualize the data with at least one plot relevant to the analysis you plan to do \n",
    "(this is exploratory data analysis). An example of a useful visualization could be one that compares the \n",
    "distributions of each of the predictor variables you plan to use in your analysis.\n",
    "\n",
    "Methods:\n",
    "Explain how you will conduct either your data analysis and which variables/columns you will use. \n",
    "Note - you do not need to use all variables/columns that exist in the raw data set. In fact, that's often not a good idea. \n",
    "For each variable think: is this a useful variable for prediction?\n",
    "Describe at least one way that you will visualize the results\n",
    "\n",
    "Expected outcomes and significance:\n",
    "What do you expect to find?\n",
    "What impact could such findings have?\n",
    "What future questions could this lead to?\n",
    "Please submit your group project proposal. Only one member of your team needs to submit."
   ]
  },
  {
   "cell_type": "code",
   "execution_count": null,
   "id": "3a0306aa-9256-43c5-9b62-4dbcb682b72a",
   "metadata": {},
   "outputs": [],
   "source": []
  }
 ],
 "metadata": {
  "kernelspec": {
   "display_name": "R",
   "language": "R",
   "name": "ir"
  },
  "language_info": {
   "codemirror_mode": "r",
   "file_extension": ".r",
   "mimetype": "text/x-r-source",
   "name": "R",
   "pygments_lexer": "r",
   "version": "4.1.3"
  }
 },
 "nbformat": 4,
 "nbformat_minor": 5
}

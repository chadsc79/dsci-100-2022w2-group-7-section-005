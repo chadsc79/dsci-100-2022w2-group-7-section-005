{
 "cells": [
  {
   "cell_type": "markdown",
   "id": "2a92b66a-2b91-4070-b42d-666e45b7a7cc",
   "metadata": {},
   "source": [
    "Group Project Proposal"
   ]
  },
  {
   "cell_type": "code",
   "execution_count": 1,
   "id": "27771454-6035-4893-b05a-1108765259f0",
   "metadata": {},
   "outputs": [
    {
     "name": "stderr",
     "output_type": "stream",
     "text": [
      "── \u001b[1mAttaching packages\u001b[22m ─────────────────────────────────────── tidyverse 1.3.1 ──\n",
      "\n",
      "\u001b[32m✔\u001b[39m \u001b[34mggplot2\u001b[39m 3.3.6     \u001b[32m✔\u001b[39m \u001b[34mpurrr  \u001b[39m 0.3.4\n",
      "\u001b[32m✔\u001b[39m \u001b[34mtibble \u001b[39m 3.1.7     \u001b[32m✔\u001b[39m \u001b[34mdplyr  \u001b[39m 1.0.9\n",
      "\u001b[32m✔\u001b[39m \u001b[34mtidyr  \u001b[39m 1.2.0     \u001b[32m✔\u001b[39m \u001b[34mstringr\u001b[39m 1.4.0\n",
      "\u001b[32m✔\u001b[39m \u001b[34mreadr  \u001b[39m 2.1.2     \u001b[32m✔\u001b[39m \u001b[34mforcats\u001b[39m 0.5.1\n",
      "\n",
      "── \u001b[1mConflicts\u001b[22m ────────────────────────────────────────── tidyverse_conflicts() ──\n",
      "\u001b[31m✖\u001b[39m \u001b[34mdplyr\u001b[39m::\u001b[32mfilter()\u001b[39m masks \u001b[34mstats\u001b[39m::filter()\n",
      "\u001b[31m✖\u001b[39m \u001b[34mdplyr\u001b[39m::\u001b[32mlag()\u001b[39m    masks \u001b[34mstats\u001b[39m::lag()\n",
      "\n",
      "── \u001b[1mAttaching packages\u001b[22m ────────────────────────────────────── tidymodels 1.0.0 ──\n",
      "\n",
      "\u001b[32m✔\u001b[39m \u001b[34mbroom       \u001b[39m 1.0.0     \u001b[32m✔\u001b[39m \u001b[34mrsample     \u001b[39m 1.0.0\n",
      "\u001b[32m✔\u001b[39m \u001b[34mdials       \u001b[39m 1.0.0     \u001b[32m✔\u001b[39m \u001b[34mtune        \u001b[39m 1.0.0\n",
      "\u001b[32m✔\u001b[39m \u001b[34minfer       \u001b[39m 1.0.2     \u001b[32m✔\u001b[39m \u001b[34mworkflows   \u001b[39m 1.0.0\n",
      "\u001b[32m✔\u001b[39m \u001b[34mmodeldata   \u001b[39m 1.0.0     \u001b[32m✔\u001b[39m \u001b[34mworkflowsets\u001b[39m 1.0.0\n",
      "\u001b[32m✔\u001b[39m \u001b[34mparsnip     \u001b[39m 1.0.0     \u001b[32m✔\u001b[39m \u001b[34myardstick   \u001b[39m 1.0.0\n",
      "\u001b[32m✔\u001b[39m \u001b[34mrecipes     \u001b[39m 1.0.1     \n",
      "\n",
      "── \u001b[1mConflicts\u001b[22m ───────────────────────────────────────── tidymodels_conflicts() ──\n",
      "\u001b[31m✖\u001b[39m \u001b[34mscales\u001b[39m::\u001b[32mdiscard()\u001b[39m masks \u001b[34mpurrr\u001b[39m::discard()\n",
      "\u001b[31m✖\u001b[39m \u001b[34mdplyr\u001b[39m::\u001b[32mfilter()\u001b[39m   masks \u001b[34mstats\u001b[39m::filter()\n",
      "\u001b[31m✖\u001b[39m \u001b[34mrecipes\u001b[39m::\u001b[32mfixed()\u001b[39m  masks \u001b[34mstringr\u001b[39m::fixed()\n",
      "\u001b[31m✖\u001b[39m \u001b[34mdplyr\u001b[39m::\u001b[32mlag()\u001b[39m      masks \u001b[34mstats\u001b[39m::lag()\n",
      "\u001b[31m✖\u001b[39m \u001b[34myardstick\u001b[39m::\u001b[32mspec()\u001b[39m masks \u001b[34mreadr\u001b[39m::spec()\n",
      "\u001b[31m✖\u001b[39m \u001b[34mrecipes\u001b[39m::\u001b[32mstep()\u001b[39m   masks \u001b[34mstats\u001b[39m::step()\n",
      "\u001b[34m•\u001b[39m Use suppressPackageStartupMessages() to eliminate package startup messages\n",
      "\n"
     ]
    }
   ],
   "source": [
    "library(tidyverse)\n",
    "library(repr)\n",
    "library(tidymodels)\n",
    "options(repr.matrix.max.rows = 6)"
   ]
  },
  {
   "cell_type": "markdown",
   "id": "596be2cd-abf8-470a-a6bf-9f736e9900b0",
   "metadata": {},
   "source": [
    "Specific expectations for the proposal:\n",
    "\n",
    "Each group is expected to prepare a 1 page (max 500 words) written proposal that identifies the dataset they plan to work on, \n",
    "as well as the question they would like to answer using that dataset for their group project. \n",
    "The proposal should be done in a Jupyter notebook, and then submitted both as an\n",
    ".html file (File -> Download As -> HTML) and an .ipynb file that is reproducible \n",
    "(i.e. works and runs without any additional files.)\n",
    "\n",
    "Each proposal should include the following sections:"
   ]
  },
  {
   "cell_type": "markdown",
   "id": "74fe5b34-7752-49d4-853b-1bffe03956d8",
   "metadata": {},
   "source": [
    "**Title:**\n",
    "\n",
    "Predicting the real price of a Parisian Airbnb rental on a Weekday"
   ]
  },
  {
   "cell_type": "markdown",
   "id": "6b2ce739-4942-4f0b-98a9-3b00451b871c",
   "metadata": {},
   "source": [
    "**Introduction:**\n",
    "\n",
    "Provide some relevant background information on the topic so that someone unfamiliar with it will be prepared to undertand the rest of your proposal. Clearly state the question you will try to answer with your project. Identify and describe the dataset that will be used to answer the question. "
   ]
  },
  {
   "cell_type": "markdown",
   "id": "ca179ccc-0e61-4a9c-b26a-2298ea47163c",
   "metadata": {},
   "source": [
    "Airbnb is an online service that connects hosts who have rooms or whole houses/apartments to rent with travellers that are interested in renting on a short-term basis. The service is used around the globe, and is used as an alternative to travellers staying in hotels. \n",
    "\n",
    "The host sets the price of their Airbnb rental based on factors such as the type of room being rented, the number of people allowed in the rental, distance to the city centre, distance to the nearest metro station. We will use these predictors to help us predict the price of an Airbnb rental in Paris on any given weekday. \n",
    "\n",
    "The dataset we will be using is **paris_weekdays.csv** from *Airbnb Prices in European Cities* posted on https://www.kaggle.com/datasets/thedevastator/airbnb-prices-in-european-cities?resource=download&select=paris_weekends.csv. The dataset is a .csv file with 3129 observations and 20 vector variables. We will be using 6 of the variables to make our predictions: dist, metro_dist, person_capacity, and room_type will be used to predict realSum. All the variables are double (dbl) except room_type which is character (chr). "
   ]
  },
  {
   "cell_type": "markdown",
   "id": "19fcb131-4cf2-4b98-bf71-eb6e6408d73f",
   "metadata": {},
   "source": [
    "**Preliminary exploratory data analysis:**\n",
    "\n",
    "Demonstrate that the dataset can be read from the web into R \n",
    "Clean and wrangle your data into a tidy format\n",
    "Using only training data, summarize the data in at least one table (this is exploratory data analysis). \n",
    "An example of a useful table could be one that reports the number of observations in each class, \n",
    "the means of the predictor variables you plan to use in your analysis and how many rows have missing data. \n",
    "Using only training data, visualize the data with at least one plot relevant to the analysis you plan to do \n",
    "(this is exploratory data analysis). An example of a useful visualization could be one that compares the \n",
    "distributions of each of the predictor variables you plan to use in your analysis."
   ]
  },
  {
   "cell_type": "code",
   "execution_count": 2,
   "id": "038bde9f-16af-4fcb-a7ce-bacf552a15a5",
   "metadata": {},
   "outputs": [
    {
     "name": "stderr",
     "output_type": "stream",
     "text": [
      "\u001b[1m\u001b[22mNew names:\n",
      "\u001b[36m•\u001b[39m `` -> `...1`\n",
      "\u001b[1mRows: \u001b[22m\u001b[34m3130\u001b[39m \u001b[1mColumns: \u001b[22m\u001b[34m20\u001b[39m\n",
      "\u001b[36m──\u001b[39m \u001b[1mColumn specification\u001b[22m \u001b[36m────────────────────────────────────────────────────────\u001b[39m\n",
      "\u001b[1mDelimiter:\u001b[22m \",\"\n",
      "\u001b[31mchr\u001b[39m  (1): room_type\n",
      "\u001b[32mdbl\u001b[39m (16): ...1, realSum, person_capacity, multi, biz, cleanliness_rating, gu...\n",
      "\u001b[33mlgl\u001b[39m  (3): room_shared, room_private, host_is_superhost\n",
      "\n",
      "\u001b[36mℹ\u001b[39m Use `spec()` to retrieve the full column specification for this data.\n",
      "\u001b[36mℹ\u001b[39m Specify the column types or set `show_col_types = FALSE` to quiet this message.\n"
     ]
    },
    {
     "data": {
      "text/html": [
       "<table class=\"dataframe\">\n",
       "<caption>A spec_tbl_df: 3130 × 20</caption>\n",
       "<thead>\n",
       "\t<tr><th scope=col>...1</th><th scope=col>realSum</th><th scope=col>room_type</th><th scope=col>room_shared</th><th scope=col>room_private</th><th scope=col>person_capacity</th><th scope=col>host_is_superhost</th><th scope=col>multi</th><th scope=col>biz</th><th scope=col>cleanliness_rating</th><th scope=col>guest_satisfaction_overall</th><th scope=col>bedrooms</th><th scope=col>dist</th><th scope=col>metro_dist</th><th scope=col>attr_index</th><th scope=col>attr_index_norm</th><th scope=col>rest_index</th><th scope=col>rest_index_norm</th><th scope=col>lng</th><th scope=col>lat</th></tr>\n",
       "\t<tr><th scope=col>&lt;dbl&gt;</th><th scope=col>&lt;dbl&gt;</th><th scope=col>&lt;chr&gt;</th><th scope=col>&lt;lgl&gt;</th><th scope=col>&lt;lgl&gt;</th><th scope=col>&lt;dbl&gt;</th><th scope=col>&lt;lgl&gt;</th><th scope=col>&lt;dbl&gt;</th><th scope=col>&lt;dbl&gt;</th><th scope=col>&lt;dbl&gt;</th><th scope=col>&lt;dbl&gt;</th><th scope=col>&lt;dbl&gt;</th><th scope=col>&lt;dbl&gt;</th><th scope=col>&lt;dbl&gt;</th><th scope=col>&lt;dbl&gt;</th><th scope=col>&lt;dbl&gt;</th><th scope=col>&lt;dbl&gt;</th><th scope=col>&lt;dbl&gt;</th><th scope=col>&lt;dbl&gt;</th><th scope=col>&lt;dbl&gt;</th></tr>\n",
       "</thead>\n",
       "<tbody>\n",
       "\t<tr><td>0</td><td>296.1599</td><td>Private room</td><td>FALSE</td><td>TRUE</td><td>2</td><td> TRUE</td><td>0</td><td>0</td><td>10</td><td>97</td><td>1</td><td>0.6998206</td><td>0.1937094</td><td>518.4789</td><td>25.23938</td><td>1218.6622</td><td>71.60803</td><td>2.35385</td><td>48.86282</td></tr>\n",
       "\t<tr><td>1</td><td>288.2375</td><td>Private room</td><td>FALSE</td><td>TRUE</td><td>2</td><td> TRUE</td><td>0</td><td>0</td><td>10</td><td>97</td><td>1</td><td>2.1000054</td><td>0.1072207</td><td>873.2170</td><td>42.50791</td><td>1000.5433</td><td>58.79146</td><td>2.32436</td><td>48.85902</td></tr>\n",
       "\t<tr><td>2</td><td>211.3431</td><td>Private room</td><td>FALSE</td><td>TRUE</td><td>2</td><td>FALSE</td><td>0</td><td>0</td><td>10</td><td>94</td><td>1</td><td>3.3023251</td><td>0.2347238</td><td>444.5561</td><td>21.64084</td><td> 902.8545</td><td>53.05131</td><td>2.31714</td><td>48.87475</td></tr>\n",
       "\t<tr><td>⋮</td><td>⋮</td><td>⋮</td><td>⋮</td><td>⋮</td><td>⋮</td><td>⋮</td><td>⋮</td><td>⋮</td><td>⋮</td><td>⋮</td><td>⋮</td><td>⋮</td><td>⋮</td><td>⋮</td><td>⋮</td><td>⋮</td><td>⋮</td><td>⋮</td><td>⋮</td></tr>\n",
       "\t<tr><td>3127</td><td>567.8535</td><td>Entire home/apt</td><td>FALSE</td><td>FALSE</td><td>6</td><td> TRUE</td><td>0</td><td>0</td><td>10</td><td>96</td><td>3</td><td>4.312136</td><td>0.3046418</td><td>178.2228</td><td> 8.675825</td><td>420.7262</td><td>24.72168</td><td>2.39334</td><td>48.88463</td></tr>\n",
       "\t<tr><td>3128</td><td>200.3915</td><td>Entire home/apt</td><td>FALSE</td><td>FALSE</td><td>2</td><td> TRUE</td><td>0</td><td>0</td><td> 9</td><td>93</td><td>1</td><td>2.891206</td><td>0.2406864</td><td>235.1685</td><td>11.447924</td><td>602.4515</td><td>35.39977</td><td>2.38200</td><td>48.87400</td></tr>\n",
       "\t<tr><td>3129</td><td>301.2862</td><td>Entire home/apt</td><td>FALSE</td><td>FALSE</td><td>2</td><td>FALSE</td><td>0</td><td>0</td><td>10</td><td>92</td><td>1</td><td>3.469721</td><td>0.5084927</td><td>200.6395</td><td> 9.767062</td><td>478.9928</td><td>28.14540</td><td>2.39992</td><td>48.85886</td></tr>\n",
       "</tbody>\n",
       "</table>\n"
      ],
      "text/latex": [
       "A spec\\_tbl\\_df: 3130 × 20\n",
       "\\begin{tabular}{llllllllllllllllllll}\n",
       " ...1 & realSum & room\\_type & room\\_shared & room\\_private & person\\_capacity & host\\_is\\_superhost & multi & biz & cleanliness\\_rating & guest\\_satisfaction\\_overall & bedrooms & dist & metro\\_dist & attr\\_index & attr\\_index\\_norm & rest\\_index & rest\\_index\\_norm & lng & lat\\\\\n",
       " <dbl> & <dbl> & <chr> & <lgl> & <lgl> & <dbl> & <lgl> & <dbl> & <dbl> & <dbl> & <dbl> & <dbl> & <dbl> & <dbl> & <dbl> & <dbl> & <dbl> & <dbl> & <dbl> & <dbl>\\\\\n",
       "\\hline\n",
       "\t 0 & 296.1599 & Private room & FALSE & TRUE & 2 &  TRUE & 0 & 0 & 10 & 97 & 1 & 0.6998206 & 0.1937094 & 518.4789 & 25.23938 & 1218.6622 & 71.60803 & 2.35385 & 48.86282\\\\\n",
       "\t 1 & 288.2375 & Private room & FALSE & TRUE & 2 &  TRUE & 0 & 0 & 10 & 97 & 1 & 2.1000054 & 0.1072207 & 873.2170 & 42.50791 & 1000.5433 & 58.79146 & 2.32436 & 48.85902\\\\\n",
       "\t 2 & 211.3431 & Private room & FALSE & TRUE & 2 & FALSE & 0 & 0 & 10 & 94 & 1 & 3.3023251 & 0.2347238 & 444.5561 & 21.64084 &  902.8545 & 53.05131 & 2.31714 & 48.87475\\\\\n",
       "\t ⋮ & ⋮ & ⋮ & ⋮ & ⋮ & ⋮ & ⋮ & ⋮ & ⋮ & ⋮ & ⋮ & ⋮ & ⋮ & ⋮ & ⋮ & ⋮ & ⋮ & ⋮ & ⋮ & ⋮\\\\\n",
       "\t 3127 & 567.8535 & Entire home/apt & FALSE & FALSE & 6 &  TRUE & 0 & 0 & 10 & 96 & 3 & 4.312136 & 0.3046418 & 178.2228 &  8.675825 & 420.7262 & 24.72168 & 2.39334 & 48.88463\\\\\n",
       "\t 3128 & 200.3915 & Entire home/apt & FALSE & FALSE & 2 &  TRUE & 0 & 0 &  9 & 93 & 1 & 2.891206 & 0.2406864 & 235.1685 & 11.447924 & 602.4515 & 35.39977 & 2.38200 & 48.87400\\\\\n",
       "\t 3129 & 301.2862 & Entire home/apt & FALSE & FALSE & 2 & FALSE & 0 & 0 & 10 & 92 & 1 & 3.469721 & 0.5084927 & 200.6395 &  9.767062 & 478.9928 & 28.14540 & 2.39992 & 48.85886\\\\\n",
       "\\end{tabular}\n"
      ],
      "text/markdown": [
       "\n",
       "A spec_tbl_df: 3130 × 20\n",
       "\n",
       "| ...1 &lt;dbl&gt; | realSum &lt;dbl&gt; | room_type &lt;chr&gt; | room_shared &lt;lgl&gt; | room_private &lt;lgl&gt; | person_capacity &lt;dbl&gt; | host_is_superhost &lt;lgl&gt; | multi &lt;dbl&gt; | biz &lt;dbl&gt; | cleanliness_rating &lt;dbl&gt; | guest_satisfaction_overall &lt;dbl&gt; | bedrooms &lt;dbl&gt; | dist &lt;dbl&gt; | metro_dist &lt;dbl&gt; | attr_index &lt;dbl&gt; | attr_index_norm &lt;dbl&gt; | rest_index &lt;dbl&gt; | rest_index_norm &lt;dbl&gt; | lng &lt;dbl&gt; | lat &lt;dbl&gt; |\n",
       "|---|---|---|---|---|---|---|---|---|---|---|---|---|---|---|---|---|---|---|---|\n",
       "| 0 | 296.1599 | Private room | FALSE | TRUE | 2 |  TRUE | 0 | 0 | 10 | 97 | 1 | 0.6998206 | 0.1937094 | 518.4789 | 25.23938 | 1218.6622 | 71.60803 | 2.35385 | 48.86282 |\n",
       "| 1 | 288.2375 | Private room | FALSE | TRUE | 2 |  TRUE | 0 | 0 | 10 | 97 | 1 | 2.1000054 | 0.1072207 | 873.2170 | 42.50791 | 1000.5433 | 58.79146 | 2.32436 | 48.85902 |\n",
       "| 2 | 211.3431 | Private room | FALSE | TRUE | 2 | FALSE | 0 | 0 | 10 | 94 | 1 | 3.3023251 | 0.2347238 | 444.5561 | 21.64084 |  902.8545 | 53.05131 | 2.31714 | 48.87475 |\n",
       "| ⋮ | ⋮ | ⋮ | ⋮ | ⋮ | ⋮ | ⋮ | ⋮ | ⋮ | ⋮ | ⋮ | ⋮ | ⋮ | ⋮ | ⋮ | ⋮ | ⋮ | ⋮ | ⋮ | ⋮ |\n",
       "| 3127 | 567.8535 | Entire home/apt | FALSE | FALSE | 6 |  TRUE | 0 | 0 | 10 | 96 | 3 | 4.312136 | 0.3046418 | 178.2228 |  8.675825 | 420.7262 | 24.72168 | 2.39334 | 48.88463 |\n",
       "| 3128 | 200.3915 | Entire home/apt | FALSE | FALSE | 2 |  TRUE | 0 | 0 |  9 | 93 | 1 | 2.891206 | 0.2406864 | 235.1685 | 11.447924 | 602.4515 | 35.39977 | 2.38200 | 48.87400 |\n",
       "| 3129 | 301.2862 | Entire home/apt | FALSE | FALSE | 2 | FALSE | 0 | 0 | 10 | 92 | 1 | 3.469721 | 0.5084927 | 200.6395 |  9.767062 | 478.9928 | 28.14540 | 2.39992 | 48.85886 |\n",
       "\n"
      ],
      "text/plain": [
       "     ...1 realSum  room_type       room_shared room_private person_capacity\n",
       "1    0    296.1599 Private room    FALSE       TRUE         2              \n",
       "2    1    288.2375 Private room    FALSE       TRUE         2              \n",
       "3    2    211.3431 Private room    FALSE       TRUE         2              \n",
       "⋮    ⋮    ⋮        ⋮               ⋮           ⋮            ⋮              \n",
       "3128 3127 567.8535 Entire home/apt FALSE       FALSE        6              \n",
       "3129 3128 200.3915 Entire home/apt FALSE       FALSE        2              \n",
       "3130 3129 301.2862 Entire home/apt FALSE       FALSE        2              \n",
       "     host_is_superhost multi biz cleanliness_rating guest_satisfaction_overall\n",
       "1     TRUE             0     0   10                 97                        \n",
       "2     TRUE             0     0   10                 97                        \n",
       "3    FALSE             0     0   10                 94                        \n",
       "⋮    ⋮                 ⋮     ⋮   ⋮                  ⋮                         \n",
       "3128  TRUE             0     0   10                 96                        \n",
       "3129  TRUE             0     0    9                 93                        \n",
       "3130 FALSE             0     0   10                 92                        \n",
       "     bedrooms dist      metro_dist attr_index attr_index_norm rest_index\n",
       "1    1        0.6998206 0.1937094  518.4789   25.23938        1218.6622 \n",
       "2    1        2.1000054 0.1072207  873.2170   42.50791        1000.5433 \n",
       "3    1        3.3023251 0.2347238  444.5561   21.64084         902.8545 \n",
       "⋮    ⋮        ⋮         ⋮          ⋮          ⋮               ⋮         \n",
       "3128 3        4.312136  0.3046418  178.2228    8.675825       420.7262  \n",
       "3129 1        2.891206  0.2406864  235.1685   11.447924       602.4515  \n",
       "3130 1        3.469721  0.5084927  200.6395    9.767062       478.9928  \n",
       "     rest_index_norm lng     lat     \n",
       "1    71.60803        2.35385 48.86282\n",
       "2    58.79146        2.32436 48.85902\n",
       "3    53.05131        2.31714 48.87475\n",
       "⋮    ⋮               ⋮       ⋮       \n",
       "3128 24.72168        2.39334 48.88463\n",
       "3129 35.39977        2.38200 48.87400\n",
       "3130 28.14540        2.39992 48.85886"
      ]
     },
     "metadata": {},
     "output_type": "display_data"
    }
   ],
   "source": [
    "paris_dataset <- read_csv(\"paris_weekdays.csv\")\n",
    "paris_dataset"
   ]
  },
  {
   "cell_type": "code",
   "execution_count": 3,
   "id": "fb755c99-4c94-4b53-8973-098930040cc4",
   "metadata": {},
   "outputs": [
    {
     "data": {
      "text/html": [
       "<table class=\"dataframe\">\n",
       "<caption>A tibble: 3130 × 5</caption>\n",
       "<thead>\n",
       "\t<tr><th scope=col>dist</th><th scope=col>metro_dist</th><th scope=col>person_capacity</th><th scope=col>room_type</th><th scope=col>realSum</th></tr>\n",
       "\t<tr><th scope=col>&lt;dbl&gt;</th><th scope=col>&lt;dbl&gt;</th><th scope=col>&lt;dbl&gt;</th><th scope=col>&lt;chr&gt;</th><th scope=col>&lt;dbl&gt;</th></tr>\n",
       "</thead>\n",
       "<tbody>\n",
       "\t<tr><td>0.6998206</td><td>0.1937094</td><td>2</td><td>Private room</td><td>296.1599</td></tr>\n",
       "\t<tr><td>2.1000054</td><td>0.1072207</td><td>2</td><td>Private room</td><td>288.2375</td></tr>\n",
       "\t<tr><td>3.3023251</td><td>0.2347238</td><td>2</td><td>Private room</td><td>211.3431</td></tr>\n",
       "\t<tr><td>⋮</td><td>⋮</td><td>⋮</td><td>⋮</td><td>⋮</td></tr>\n",
       "\t<tr><td>4.312136</td><td>0.3046418</td><td>6</td><td>Entire home/apt</td><td>567.8535</td></tr>\n",
       "\t<tr><td>2.891206</td><td>0.2406864</td><td>2</td><td>Entire home/apt</td><td>200.3915</td></tr>\n",
       "\t<tr><td>3.469721</td><td>0.5084927</td><td>2</td><td>Entire home/apt</td><td>301.2862</td></tr>\n",
       "</tbody>\n",
       "</table>\n"
      ],
      "text/latex": [
       "A tibble: 3130 × 5\n",
       "\\begin{tabular}{lllll}\n",
       " dist & metro\\_dist & person\\_capacity & room\\_type & realSum\\\\\n",
       " <dbl> & <dbl> & <dbl> & <chr> & <dbl>\\\\\n",
       "\\hline\n",
       "\t 0.6998206 & 0.1937094 & 2 & Private room & 296.1599\\\\\n",
       "\t 2.1000054 & 0.1072207 & 2 & Private room & 288.2375\\\\\n",
       "\t 3.3023251 & 0.2347238 & 2 & Private room & 211.3431\\\\\n",
       "\t ⋮ & ⋮ & ⋮ & ⋮ & ⋮\\\\\n",
       "\t 4.312136 & 0.3046418 & 6 & Entire home/apt & 567.8535\\\\\n",
       "\t 2.891206 & 0.2406864 & 2 & Entire home/apt & 200.3915\\\\\n",
       "\t 3.469721 & 0.5084927 & 2 & Entire home/apt & 301.2862\\\\\n",
       "\\end{tabular}\n"
      ],
      "text/markdown": [
       "\n",
       "A tibble: 3130 × 5\n",
       "\n",
       "| dist &lt;dbl&gt; | metro_dist &lt;dbl&gt; | person_capacity &lt;dbl&gt; | room_type &lt;chr&gt; | realSum &lt;dbl&gt; |\n",
       "|---|---|---|---|---|\n",
       "| 0.6998206 | 0.1937094 | 2 | Private room | 296.1599 |\n",
       "| 2.1000054 | 0.1072207 | 2 | Private room | 288.2375 |\n",
       "| 3.3023251 | 0.2347238 | 2 | Private room | 211.3431 |\n",
       "| ⋮ | ⋮ | ⋮ | ⋮ | ⋮ |\n",
       "| 4.312136 | 0.3046418 | 6 | Entire home/apt | 567.8535 |\n",
       "| 2.891206 | 0.2406864 | 2 | Entire home/apt | 200.3915 |\n",
       "| 3.469721 | 0.5084927 | 2 | Entire home/apt | 301.2862 |\n",
       "\n"
      ],
      "text/plain": [
       "     dist      metro_dist person_capacity room_type       realSum \n",
       "1    0.6998206 0.1937094  2               Private room    296.1599\n",
       "2    2.1000054 0.1072207  2               Private room    288.2375\n",
       "3    3.3023251 0.2347238  2               Private room    211.3431\n",
       "⋮    ⋮         ⋮          ⋮               ⋮               ⋮       \n",
       "3128 4.312136  0.3046418  6               Entire home/apt 567.8535\n",
       "3129 2.891206  0.2406864  2               Entire home/apt 200.3915\n",
       "3130 3.469721  0.5084927  2               Entire home/apt 301.2862"
      ]
     },
     "metadata": {},
     "output_type": "display_data"
    }
   ],
   "source": [
    "paris_dataset <- select(paris_dataset, dist, metro_dist, person_capacity, room_type, realSum)\n",
    "\n",
    "paris_dataset"
   ]
  },
  {
   "cell_type": "code",
   "execution_count": 4,
   "id": "56dcc35d-48e4-42e0-b6ee-b4070f5af9d2",
   "metadata": {},
   "outputs": [
    {
     "name": "stderr",
     "output_type": "stream",
     "text": [
      "Warning message:\n",
      "“Ignoring unknown parameters: binwidth, bins, pad”\n"
     ]
    },
    {
     "data": {
      "image/png": "[encoded data removed]",
      "text/plain": [
       "plot without title"
      ]
     },
     "metadata": {
      "image/png": {
       "height": 420,
       "width": 420
      }
     },
     "output_type": "display_data"
    }
   ],
   "source": [
    "#The highest bar would represent the most common room type\n",
    "most_common_room_type_plot <- ggplot(paris_dataset, aes(x = room_type)) +\n",
    "geom_histogram(stat=\"count\")\n",
    "most_common_room_type_plot\n",
    "#From the graph it can be seen that the most common room type is \"Entire home/apt\""
   ]
  },
  {
   "cell_type": "code",
   "execution_count": 5,
   "id": "fac5456e-b275-4179-83d1-5877f9ec6770",
   "metadata": {},
   "outputs": [
    {
     "data": {
      "text/html": [
       "<table class=\"dataframe\">\n",
       "<caption>A tibble: 1 × 5</caption>\n",
       "<thead>\n",
       "\t<tr><th scope=col>avg_dist</th><th scope=col>avg_metro_dist</th><th scope=col>avg_person_capacity</th><th scope=col>most_common_room_type</th><th scope=col>avg_price</th></tr>\n",
       "\t<tr><th scope=col>&lt;dbl&gt;</th><th scope=col>&lt;dbl&gt;</th><th scope=col>&lt;dbl&gt;</th><th scope=col>&lt;chr&gt;</th><th scope=col>&lt;dbl&gt;</th></tr>\n",
       "</thead>\n",
       "<tbody>\n",
       "\t<tr><td>3.010861</td><td>0.228034</td><td>2.947284</td><td>Entire home/apt</td><td>398.7867</td></tr>\n",
       "</tbody>\n",
       "</table>\n"
      ],
      "text/latex": [
       "A tibble: 1 × 5\n",
       "\\begin{tabular}{lllll}\n",
       " avg\\_dist & avg\\_metro\\_dist & avg\\_person\\_capacity & most\\_common\\_room\\_type & avg\\_price\\\\\n",
       " <dbl> & <dbl> & <dbl> & <chr> & <dbl>\\\\\n",
       "\\hline\n",
       "\t 3.010861 & 0.228034 & 2.947284 & Entire home/apt & 398.7867\\\\\n",
       "\\end{tabular}\n"
      ],
      "text/markdown": [
       "\n",
       "A tibble: 1 × 5\n",
       "\n",
       "| avg_dist &lt;dbl&gt; | avg_metro_dist &lt;dbl&gt; | avg_person_capacity &lt;dbl&gt; | most_common_room_type &lt;chr&gt; | avg_price &lt;dbl&gt; |\n",
       "|---|---|---|---|---|\n",
       "| 3.010861 | 0.228034 | 2.947284 | Entire home/apt | 398.7867 |\n",
       "\n"
      ],
      "text/plain": [
       "  avg_dist avg_metro_dist avg_person_capacity most_common_room_type avg_price\n",
       "1 3.010861 0.228034       2.947284            Entire home/apt       398.7867 "
      ]
     },
     "metadata": {},
     "output_type": "display_data"
    }
   ],
   "source": [
    "\n",
    "summarized_paris_dataset <- summarize(paris_dataset,\n",
    "                                      avg_dist = mean(dist),\n",
    "                                      avg_metro_dist = mean(metro_dist),\n",
    "                                      avg_person_capacity = mean(person_capacity),\n",
    "                                      most_common_room_type = \"Entire home/apt\",\n",
    "                                      avg_price = mean(realSum))\n",
    "summarized_paris_dataset"
   ]
  },
  {
   "cell_type": "markdown",
   "id": "331f2706-6f2f-44af-a351-da20712dfe35",
   "metadata": {},
   "source": [
    "**Methods:**\n",
    "\n",
    "Explain how you will conduct either your data analysis and which variables/columns you will use. \n",
    "Note - you do not need to use all variables/columns that exist in the raw data set. In fact, that is often not a good idea. \n",
    "For each variable think: is this a useful variable for prediction?\n",
    "Describe at least one way that you will visualize the results"
   ]
  },
  {
   "cell_type": "markdown",
   "id": "f556effd-ef30-467b-a481-1f6c4c10f60c",
   "metadata": {},
   "source": [
    "**Expected outcomes and significance:**\n",
    "\n",
    "What do you expect to find?\n",
    "What impact could such findings have?\n",
    "What future questions could this lead to?"
   ]
  },
  {
   "cell_type": "markdown",
   "id": "d248e77a-036e-4d84-9b6f-1f7e7644b122",
   "metadata": {},
   "source": [
    "We expect to find that rentals that allow more people, are houses/apartments, closer to the city center and closer to metro will be more expensive than ones that are farther away, allow less people and are private rooms. \n",
    "\n",
    "Any impacts from this study will help Airbnb hosts determine the price that they charge for their rental based on the criteria we used in the study. And it will help renters gauge how much to expect to pay when they are staying in areas that are similar to those in the study.\n",
    "\n",
    "Future questions:\n",
    "Our findings could lead to questions such as:\n",
    "Do these findings also occur in other Airbnb cities around the globe?\n",
    "Is there a difference in price for Airbnb rentals in urban areas compared to rural areas using the same criteria as in our study?"
   ]
  },
  {
   "cell_type": "markdown",
   "id": "5f067e64-76cb-4d6f-abd3-c993908d2cea",
   "metadata": {},
   "source": [
    "*Please submit your group project proposal. Only one member of your team needs to submit.*"
   ]
  }
 ],
 "metadata": {
  "kernelspec": {
   "display_name": "R",
   "language": "R",
   "name": "ir"
  },
  "language_info": {
   "codemirror_mode": "r",
   "file_extension": ".r",
   "mimetype": "text/x-r-source",
   "name": "R",
   "pygments_lexer": "r",
   "version": "4.1.3"
  }
 },
 "nbformat": 4,
 "nbformat_minor": 5
}

{
 "cells": [
  {
   "cell_type": "markdown",
   "id": "6e1424a8",
   "metadata": {},
   "source": [
    "Group Project Proposal"
   ]
  },
  {
   "cell_type": "code",
   "execution_count": 1,
   "id": "c070e3c7",
   "metadata": {},
   "outputs": [
    {
     "name": "stderr",
     "output_type": "stream",
     "text": [
      "── \u001b[1mAttaching packages\u001b[22m ─────────────────────────────────────── tidyverse 1.3.1 ──\n",
      "\n",
      "\u001b[32m✔\u001b[39m \u001b[34mggplot2\u001b[39m 3.3.6     \u001b[32m✔\u001b[39m \u001b[34mpurrr  \u001b[39m 0.3.4\n",
      "\u001b[32m✔\u001b[39m \u001b[34mtibble \u001b[39m 3.1.7     \u001b[32m✔\u001b[39m \u001b[34mdplyr  \u001b[39m 1.0.9\n",
      "\u001b[32m✔\u001b[39m \u001b[34mtidyr  \u001b[39m 1.2.0     \u001b[32m✔\u001b[39m \u001b[34mstringr\u001b[39m 1.4.0\n",
      "\u001b[32m✔\u001b[39m \u001b[34mreadr  \u001b[39m 2.1.2     \u001b[32m✔\u001b[39m \u001b[34mforcats\u001b[39m 0.5.1\n",
      "\n",
      "── \u001b[1mConflicts\u001b[22m ────────────────────────────────────────── tidyverse_conflicts() ──\n",
      "\u001b[31m✖\u001b[39m \u001b[34mdplyr\u001b[39m::\u001b[32mfilter()\u001b[39m masks \u001b[34mstats\u001b[39m::filter()\n",
      "\u001b[31m✖\u001b[39m \u001b[34mdplyr\u001b[39m::\u001b[32mlag()\u001b[39m    masks \u001b[34mstats\u001b[39m::lag()\n",
      "\n",
      "── \u001b[1mAttaching packages\u001b[22m ────────────────────────────────────── tidymodels 1.0.0 ──\n",
      "\n",
      "\u001b[32m✔\u001b[39m \u001b[34mbroom       \u001b[39m 1.0.0     \u001b[32m✔\u001b[39m \u001b[34mrsample     \u001b[39m 1.0.0\n",
      "\u001b[32m✔\u001b[39m \u001b[34mdials       \u001b[39m 1.0.0     \u001b[32m✔\u001b[39m \u001b[34mtune        \u001b[39m 1.0.0\n",
      "\u001b[32m✔\u001b[39m \u001b[34minfer       \u001b[39m 1.0.2     \u001b[32m✔\u001b[39m \u001b[34mworkflows   \u001b[39m 1.0.0\n",
      "\u001b[32m✔\u001b[39m \u001b[34mmodeldata   \u001b[39m 1.0.0     \u001b[32m✔\u001b[39m \u001b[34mworkflowsets\u001b[39m 1.0.0\n",
      "\u001b[32m✔\u001b[39m \u001b[34mparsnip     \u001b[39m 1.0.0     \u001b[32m✔\u001b[39m \u001b[34myardstick   \u001b[39m 1.0.0\n",
      "\u001b[32m✔\u001b[39m \u001b[34mrecipes     \u001b[39m 1.0.1     \n",
      "\n",
      "── \u001b[1mConflicts\u001b[22m ───────────────────────────────────────── tidymodels_conflicts() ──\n",
      "\u001b[31m✖\u001b[39m \u001b[34mscales\u001b[39m::\u001b[32mdiscard()\u001b[39m masks \u001b[34mpurrr\u001b[39m::discard()\n",
      "\u001b[31m✖\u001b[39m \u001b[34mdplyr\u001b[39m::\u001b[32mfilter()\u001b[39m   masks \u001b[34mstats\u001b[39m::filter()\n",
      "\u001b[31m✖\u001b[39m \u001b[34mrecipes\u001b[39m::\u001b[32mfixed()\u001b[39m  masks \u001b[34mstringr\u001b[39m::fixed()\n",
      "\u001b[31m✖\u001b[39m \u001b[34mdplyr\u001b[39m::\u001b[32mlag()\u001b[39m      masks \u001b[34mstats\u001b[39m::lag()\n",
      "\u001b[31m✖\u001b[39m \u001b[34myardstick\u001b[39m::\u001b[32mspec()\u001b[39m masks \u001b[34mreadr\u001b[39m::spec()\n",
      "\u001b[31m✖\u001b[39m \u001b[34mrecipes\u001b[39m::\u001b[32mstep()\u001b[39m   masks \u001b[34mstats\u001b[39m::step()\n",
      "\u001b[34m•\u001b[39m Learn how to get started at \u001b[32mhttps://www.tidymodels.org/start/\u001b[39m\n",
      "\n"
     ]
    }
   ],
   "source": [
    "library(tidyverse)\n",
    "library(repr)\n",
    "library(tidymodels)\n",
    "options(repr.matrix.max.rows = 6)"
   ]
  },
  {
   "cell_type": "markdown",
   "id": "9889b0ac",
   "metadata": {},
   "source": [
    "**Title:**\n",
    "\n",
    "Predicting the real price of a private room for a Parisian Airbnb rental on a weekday"
   ]
  },
  {
   "cell_type": "markdown",
   "id": "124f713c",
   "metadata": {},
   "source": [
    "**Introduction:**\n",
    "\n",
    "Provide some relevant background information on the topic so that someone unfamiliar with it will be prepared to undertand the rest of your proposal. Clearly state the question you will try to answer with your project. Identify and describe the dataset that will be used to answer the question. "
   ]
  },
  {
   "cell_type": "markdown",
   "id": "71d60171",
   "metadata": {},
   "source": [
    "Airbnb is an online service that connects hosts who have properties to rent with travellers that are interested in renting on a short-term basis. The host sets the price of their Airbnb rental based on factors such as the capacity of the rental, distance to the city centre, distance to the nearest metro station. We will use these predictors to help us predict the price of an private room Airbnb rental in Paris on any given weekday. \n",
    "\n",
    "The dataset we will be using is **paris_weekdays.csv** from *Airbnb Prices in European Cities* posted on https://www.kaggle.com/datasets/thedevastator/airbnb-prices-in-european-cities?resource=download&select=paris_weekdays.csv. The dataset is a .csv file with 3129 observations and 20 vector variables. We will be using 6 of the variables to make our predictions: dist, metro_dist, person_capacity, and room_type will be used to predict realSum. All the variables are double (dbl) except room_type which is character (chr). "
   ]
  },
  {
   "cell_type": "markdown",
   "id": "bcf14211",
   "metadata": {},
   "source": [
    "**Preliminary exploratory data analysis:**\n",
    "\n",
    "Demonstrate that the dataset can be read from the web into R. \n",
    "Clean and wrangle your data into a tidy format.\n",
    "**Using only training data**, summarize the data in at least one table (this is exploratory data analysis). \n",
    "An example of a useful table could be one that reports the number of observations in each class, \n",
    "the means of the predictor variables you plan to use in your analysis and how many rows have missing data. \n",
    "**Using only training data**, visualize the data with at least one plot relevant to the analysis you plan to do \n",
    "(this is exploratory data analysis). An example of a useful visualization could be one that compares the \n",
    "distributions of each of the predictor variables you plan to use in your analysis."
   ]
  },
  {
   "cell_type": "code",
   "execution_count": 2,
   "id": "a29ba1e2",
   "metadata": {},
   "outputs": [
    {
     "name": "stderr",
     "output_type": "stream",
     "text": [
      "\u001b[1m\u001b[22mNew names:\n",
      "\u001b[36m•\u001b[39m `` -> `...1`\n",
      "\u001b[1mRows: \u001b[22m\u001b[34m3130\u001b[39m \u001b[1mColumns: \u001b[22m\u001b[34m20\u001b[39m\n",
      "\u001b[36m──\u001b[39m \u001b[1mColumn specification\u001b[22m \u001b[36m────────────────────────────────────────────────────────\u001b[39m\n",
      "\u001b[1mDelimiter:\u001b[22m \",\"\n",
      "\u001b[31mchr\u001b[39m  (1): room_type\n",
      "\u001b[32mdbl\u001b[39m (16): ...1, realSum, person_capacity, multi, biz, cleanliness_rating, gu...\n",
      "\u001b[33mlgl\u001b[39m  (3): room_shared, room_private, host_is_superhost\n",
      "\n",
      "\u001b[36mℹ\u001b[39m Use `spec()` to retrieve the full column specification for this data.\n",
      "\u001b[36mℹ\u001b[39m Specify the column types or set `show_col_types = FALSE` to quiet this message.\n"
     ]
    },
    {
     "data": {
      "text/html": [
       "<table class=\"dataframe\">\n",
       "<caption>A spec_tbl_df: 3130 × 20</caption>\n",
       "<thead>\n",
       "\t<tr><th scope=col>...1</th><th scope=col>realSum</th><th scope=col>room_type</th><th scope=col>room_shared</th><th scope=col>room_private</th><th scope=col>person_capacity</th><th scope=col>host_is_superhost</th><th scope=col>multi</th><th scope=col>biz</th><th scope=col>cleanliness_rating</th><th scope=col>guest_satisfaction_overall</th><th scope=col>bedrooms</th><th scope=col>dist</th><th scope=col>metro_dist</th><th scope=col>attr_index</th><th scope=col>attr_index_norm</th><th scope=col>rest_index</th><th scope=col>rest_index_norm</th><th scope=col>lng</th><th scope=col>lat</th></tr>\n",
       "\t<tr><th scope=col>&lt;dbl&gt;</th><th scope=col>&lt;dbl&gt;</th><th scope=col>&lt;chr&gt;</th><th scope=col>&lt;lgl&gt;</th><th scope=col>&lt;lgl&gt;</th><th scope=col>&lt;dbl&gt;</th><th scope=col>&lt;lgl&gt;</th><th scope=col>&lt;dbl&gt;</th><th scope=col>&lt;dbl&gt;</th><th scope=col>&lt;dbl&gt;</th><th scope=col>&lt;dbl&gt;</th><th scope=col>&lt;dbl&gt;</th><th scope=col>&lt;dbl&gt;</th><th scope=col>&lt;dbl&gt;</th><th scope=col>&lt;dbl&gt;</th><th scope=col>&lt;dbl&gt;</th><th scope=col>&lt;dbl&gt;</th><th scope=col>&lt;dbl&gt;</th><th scope=col>&lt;dbl&gt;</th><th scope=col>&lt;dbl&gt;</th></tr>\n",
       "</thead>\n",
       "<tbody>\n",
       "\t<tr><td>0</td><td>296.1599</td><td>Private room</td><td>FALSE</td><td>TRUE</td><td>2</td><td> TRUE</td><td>0</td><td>0</td><td>10</td><td>97</td><td>1</td><td>0.6998206</td><td>0.1937094</td><td>518.4789</td><td>25.23938</td><td>1218.6622</td><td>71.60803</td><td>2.35385</td><td>48.86282</td></tr>\n",
       "\t<tr><td>1</td><td>288.2375</td><td>Private room</td><td>FALSE</td><td>TRUE</td><td>2</td><td> TRUE</td><td>0</td><td>0</td><td>10</td><td>97</td><td>1</td><td>2.1000054</td><td>0.1072207</td><td>873.2170</td><td>42.50791</td><td>1000.5433</td><td>58.79146</td><td>2.32436</td><td>48.85902</td></tr>\n",
       "\t<tr><td>2</td><td>211.3431</td><td>Private room</td><td>FALSE</td><td>TRUE</td><td>2</td><td>FALSE</td><td>0</td><td>0</td><td>10</td><td>94</td><td>1</td><td>3.3023251</td><td>0.2347238</td><td>444.5561</td><td>21.64084</td><td> 902.8545</td><td>53.05131</td><td>2.31714</td><td>48.87475</td></tr>\n",
       "\t<tr><td>⋮</td><td>⋮</td><td>⋮</td><td>⋮</td><td>⋮</td><td>⋮</td><td>⋮</td><td>⋮</td><td>⋮</td><td>⋮</td><td>⋮</td><td>⋮</td><td>⋮</td><td>⋮</td><td>⋮</td><td>⋮</td><td>⋮</td><td>⋮</td><td>⋮</td><td>⋮</td></tr>\n",
       "\t<tr><td>3127</td><td>567.8535</td><td>Entire home/apt</td><td>FALSE</td><td>FALSE</td><td>6</td><td> TRUE</td><td>0</td><td>0</td><td>10</td><td>96</td><td>3</td><td>4.312136</td><td>0.3046418</td><td>178.2228</td><td> 8.675825</td><td>420.7262</td><td>24.72168</td><td>2.39334</td><td>48.88463</td></tr>\n",
       "\t<tr><td>3128</td><td>200.3915</td><td>Entire home/apt</td><td>FALSE</td><td>FALSE</td><td>2</td><td> TRUE</td><td>0</td><td>0</td><td> 9</td><td>93</td><td>1</td><td>2.891206</td><td>0.2406864</td><td>235.1685</td><td>11.447924</td><td>602.4515</td><td>35.39977</td><td>2.38200</td><td>48.87400</td></tr>\n",
       "\t<tr><td>3129</td><td>301.2862</td><td>Entire home/apt</td><td>FALSE</td><td>FALSE</td><td>2</td><td>FALSE</td><td>0</td><td>0</td><td>10</td><td>92</td><td>1</td><td>3.469721</td><td>0.5084927</td><td>200.6395</td><td> 9.767062</td><td>478.9928</td><td>28.14540</td><td>2.39992</td><td>48.85886</td></tr>\n",
       "</tbody>\n",
       "</table>\n"
      ],
      "text/latex": [
       "A spec\\_tbl\\_df: 3130 × 20\n",
       "\\begin{tabular}{llllllllllllllllllll}\n",
       " ...1 & realSum & room\\_type & room\\_shared & room\\_private & person\\_capacity & host\\_is\\_superhost & multi & biz & cleanliness\\_rating & guest\\_satisfaction\\_overall & bedrooms & dist & metro\\_dist & attr\\_index & attr\\_index\\_norm & rest\\_index & rest\\_index\\_norm & lng & lat\\\\\n",
       " <dbl> & <dbl> & <chr> & <lgl> & <lgl> & <dbl> & <lgl> & <dbl> & <dbl> & <dbl> & <dbl> & <dbl> & <dbl> & <dbl> & <dbl> & <dbl> & <dbl> & <dbl> & <dbl> & <dbl>\\\\\n",
       "\\hline\n",
       "\t 0 & 296.1599 & Private room & FALSE & TRUE & 2 &  TRUE & 0 & 0 & 10 & 97 & 1 & 0.6998206 & 0.1937094 & 518.4789 & 25.23938 & 1218.6622 & 71.60803 & 2.35385 & 48.86282\\\\\n",
       "\t 1 & 288.2375 & Private room & FALSE & TRUE & 2 &  TRUE & 0 & 0 & 10 & 97 & 1 & 2.1000054 & 0.1072207 & 873.2170 & 42.50791 & 1000.5433 & 58.79146 & 2.32436 & 48.85902\\\\\n",
       "\t 2 & 211.3431 & Private room & FALSE & TRUE & 2 & FALSE & 0 & 0 & 10 & 94 & 1 & 3.3023251 & 0.2347238 & 444.5561 & 21.64084 &  902.8545 & 53.05131 & 2.31714 & 48.87475\\\\\n",
       "\t ⋮ & ⋮ & ⋮ & ⋮ & ⋮ & ⋮ & ⋮ & ⋮ & ⋮ & ⋮ & ⋮ & ⋮ & ⋮ & ⋮ & ⋮ & ⋮ & ⋮ & ⋮ & ⋮ & ⋮\\\\\n",
       "\t 3127 & 567.8535 & Entire home/apt & FALSE & FALSE & 6 &  TRUE & 0 & 0 & 10 & 96 & 3 & 4.312136 & 0.3046418 & 178.2228 &  8.675825 & 420.7262 & 24.72168 & 2.39334 & 48.88463\\\\\n",
       "\t 3128 & 200.3915 & Entire home/apt & FALSE & FALSE & 2 &  TRUE & 0 & 0 &  9 & 93 & 1 & 2.891206 & 0.2406864 & 235.1685 & 11.447924 & 602.4515 & 35.39977 & 2.38200 & 48.87400\\\\\n",
       "\t 3129 & 301.2862 & Entire home/apt & FALSE & FALSE & 2 & FALSE & 0 & 0 & 10 & 92 & 1 & 3.469721 & 0.5084927 & 200.6395 &  9.767062 & 478.9928 & 28.14540 & 2.39992 & 48.85886\\\\\n",
       "\\end{tabular}\n"
      ],
      "text/markdown": [
       "\n",
       "A spec_tbl_df: 3130 × 20\n",
       "\n",
       "| ...1 &lt;dbl&gt; | realSum &lt;dbl&gt; | room_type &lt;chr&gt; | room_shared &lt;lgl&gt; | room_private &lt;lgl&gt; | person_capacity &lt;dbl&gt; | host_is_superhost &lt;lgl&gt; | multi &lt;dbl&gt; | biz &lt;dbl&gt; | cleanliness_rating &lt;dbl&gt; | guest_satisfaction_overall &lt;dbl&gt; | bedrooms &lt;dbl&gt; | dist &lt;dbl&gt; | metro_dist &lt;dbl&gt; | attr_index &lt;dbl&gt; | attr_index_norm &lt;dbl&gt; | rest_index &lt;dbl&gt; | rest_index_norm &lt;dbl&gt; | lng &lt;dbl&gt; | lat &lt;dbl&gt; |\n",
       "|---|---|---|---|---|---|---|---|---|---|---|---|---|---|---|---|---|---|---|---|\n",
       "| 0 | 296.1599 | Private room | FALSE | TRUE | 2 |  TRUE | 0 | 0 | 10 | 97 | 1 | 0.6998206 | 0.1937094 | 518.4789 | 25.23938 | 1218.6622 | 71.60803 | 2.35385 | 48.86282 |\n",
       "| 1 | 288.2375 | Private room | FALSE | TRUE | 2 |  TRUE | 0 | 0 | 10 | 97 | 1 | 2.1000054 | 0.1072207 | 873.2170 | 42.50791 | 1000.5433 | 58.79146 | 2.32436 | 48.85902 |\n",
       "| 2 | 211.3431 | Private room | FALSE | TRUE | 2 | FALSE | 0 | 0 | 10 | 94 | 1 | 3.3023251 | 0.2347238 | 444.5561 | 21.64084 |  902.8545 | 53.05131 | 2.31714 | 48.87475 |\n",
       "| ⋮ | ⋮ | ⋮ | ⋮ | ⋮ | ⋮ | ⋮ | ⋮ | ⋮ | ⋮ | ⋮ | ⋮ | ⋮ | ⋮ | ⋮ | ⋮ | ⋮ | ⋮ | ⋮ | ⋮ |\n",
       "| 3127 | 567.8535 | Entire home/apt | FALSE | FALSE | 6 |  TRUE | 0 | 0 | 10 | 96 | 3 | 4.312136 | 0.3046418 | 178.2228 |  8.675825 | 420.7262 | 24.72168 | 2.39334 | 48.88463 |\n",
       "| 3128 | 200.3915 | Entire home/apt | FALSE | FALSE | 2 |  TRUE | 0 | 0 |  9 | 93 | 1 | 2.891206 | 0.2406864 | 235.1685 | 11.447924 | 602.4515 | 35.39977 | 2.38200 | 48.87400 |\n",
       "| 3129 | 301.2862 | Entire home/apt | FALSE | FALSE | 2 | FALSE | 0 | 0 | 10 | 92 | 1 | 3.469721 | 0.5084927 | 200.6395 |  9.767062 | 478.9928 | 28.14540 | 2.39992 | 48.85886 |\n",
       "\n"
      ],
      "text/plain": [
       "     ...1 realSum  room_type       room_shared room_private person_capacity\n",
       "1    0    296.1599 Private room    FALSE       TRUE         2              \n",
       "2    1    288.2375 Private room    FALSE       TRUE         2              \n",
       "3    2    211.3431 Private room    FALSE       TRUE         2              \n",
       "⋮    ⋮    ⋮        ⋮               ⋮           ⋮            ⋮              \n",
       "3128 3127 567.8535 Entire home/apt FALSE       FALSE        6              \n",
       "3129 3128 200.3915 Entire home/apt FALSE       FALSE        2              \n",
       "3130 3129 301.2862 Entire home/apt FALSE       FALSE        2              \n",
       "     host_is_superhost multi biz cleanliness_rating guest_satisfaction_overall\n",
       "1     TRUE             0     0   10                 97                        \n",
       "2     TRUE             0     0   10                 97                        \n",
       "3    FALSE             0     0   10                 94                        \n",
       "⋮    ⋮                 ⋮     ⋮   ⋮                  ⋮                         \n",
       "3128  TRUE             0     0   10                 96                        \n",
       "3129  TRUE             0     0    9                 93                        \n",
       "3130 FALSE             0     0   10                 92                        \n",
       "     bedrooms dist      metro_dist attr_index attr_index_norm rest_index\n",
       "1    1        0.6998206 0.1937094  518.4789   25.23938        1218.6622 \n",
       "2    1        2.1000054 0.1072207  873.2170   42.50791        1000.5433 \n",
       "3    1        3.3023251 0.2347238  444.5561   21.64084         902.8545 \n",
       "⋮    ⋮        ⋮         ⋮          ⋮          ⋮               ⋮         \n",
       "3128 3        4.312136  0.3046418  178.2228    8.675825       420.7262  \n",
       "3129 1        2.891206  0.2406864  235.1685   11.447924       602.4515  \n",
       "3130 1        3.469721  0.5084927  200.6395    9.767062       478.9928  \n",
       "     rest_index_norm lng     lat     \n",
       "1    71.60803        2.35385 48.86282\n",
       "2    58.79146        2.32436 48.85902\n",
       "3    53.05131        2.31714 48.87475\n",
       "⋮    ⋮               ⋮       ⋮       \n",
       "3128 24.72168        2.39334 48.88463\n",
       "3129 35.39977        2.38200 48.87400\n",
       "3130 28.14540        2.39992 48.85886"
      ]
     },
     "metadata": {},
     "output_type": "display_data"
    }
   ],
   "source": [
    "paris_dataset <- read_csv(\"https://raw.githubusercontent.com/chadsc79/dsci-100-2022w2-group-7-section-005/main/paris_weekdays.csv\")\n",
    "paris_dataset"
   ]
  },
  {
   "cell_type": "code",
   "execution_count": 3,
   "id": "fb1dcde9",
   "metadata": {},
   "outputs": [
    {
     "ename": "ERROR",
     "evalue": "Error in parse(text = x, srcfile = src): <text>:1:1: unexpected input\n1: <<\n    ^\n",
     "output_type": "error",
     "traceback": [
      "Error in parse(text = x, srcfile = src): <text>:1:1: unexpected input\n1: <<\n    ^\nTraceback:\n"
     ]
    }
   ],
   "source": [
    "<<<<<<< REMOTE CELL DELETED >>>>>>>\n",
    "#read in the data\n",
    "url <- \n",
    "\n",
    "paris_dataset <- read_csv(\"paris_weekdays.csv\" )\n",
    "paris_dataset"
   ]
  },
  {
   "cell_type": "code",
   "execution_count": null,
   "id": "8c470609",
   "metadata": {},
   "outputs": [],
   "source": [
    "#split the data into a testing set and a training set\n",
    "paris_split <- initial_split(paris_dataset, prop = .75, strata = realSum)  \n",
    "paris_train <- training(paris_split) \n",
    "\n",
    "paris_test <- testing(paris_split)\n",
    "paris_train"
   ]
  },
  {
   "cell_type": "code",
   "execution_count": null,
   "id": "658c0ba5",
   "metadata": {},
   "outputs": [],
   "source": [
    "#select variables to predict the data and filter for private room\n",
    "paris_training_dataset <- select(paris_train, dist, metro_dist, person_capacity, room_type, realSum)|>\n",
    "filter(room_type == \"Private room\")\n",
    "paris_training_dataset"
   ]
  },
  {
   "cell_type": "code",
   "execution_count": null,
   "id": "8ae64d20",
   "metadata": {},
   "outputs": [],
   "source": [
    "#find the min/max of the training dataset\n",
    "options(digits= 4)\n",
    "min_max_prices <- summarize(paris_training_dataset,\n",
    "          minimum_price = min(realSum),\n",
    "          maximum_price = max(realSum))\n",
    "min_max_prices"
   ]
  },
  {
   "cell_type": "code",
   "execution_count": null,
   "id": "0f1466c7",
   "metadata": {},
   "outputs": [],
   "source": [
    "#create price ranges to be predicted with the training set\n",
    "paris_training_dataset$price_range <- cut(paris_training_dataset$realSum, breaks = c(0, 150, 250, 500, 1000, 2000, 5000, 10000, 15000))\n",
    "paris_training_dataset"
   ]
  },
  {
   "cell_type": "code",
   "execution_count": null,
   "id": "012200e2",
   "metadata": {},
   "outputs": [],
   "source": [
    "#find the training set average of each variable\n",
    "options(digits=4)\n",
    "summarized_paris_training_dataset <- summarize(paris_training_dataset,\n",
    "                                      avg_dist = mean(dist),\n",
    "                                      avg_metro_dist = mean(metro_dist),\n",
    "                                      avg_person_capacity = mean(person_capacity),\n",
    "                                      avg_price = mean(realSum))\n",
    "summarized_paris_training_dataset"
   ]
  },
  {
   "cell_type": "code",
   "execution_count": null,
   "id": "fe27cf9e",
   "metadata": {},
   "outputs": [],
   "source": [
    "#scatterplot of distance from the city centre and distance from the metro for private room types for private rooms, categorized by price\n",
    "options(repr.plot.width = 14, repr.plot.height = 8)\n",
    "dataset_visual <- paris_training_dataset|>\n",
    "ggplot( aes(x = dist, y = metro_dist, color = price_range))+\n",
    "geom_point()+\n",
    "labs(x = \"Distance from the city centre\", y = \"Distance from the metro\", color = \"Price\")\n",
    "dataset_visual"
   ]
  },
  {
   "cell_type": "markdown",
   "id": "9032db23",
   "metadata": {},
   "source": [
    "**Methods:**\n",
    "\n",
    "Explain how you will conduct either your data analysis and which variables/columns you will use. \n",
    "Note - you do not need to use all variables/columns that exist in the raw data set. In fact, that is often not a good idea. \n",
    "For each variable think: is this a useful variable for prediction?\n",
    "Describe at least one way that you will visualize the results"
   ]
  },
  {
   "cell_type": "markdown",
   "id": "85f49e4c",
   "metadata": {},
   "source": [
    "We will be using distance from the city centre, distance from the nearest metro, and room capacity to predict the price of a private room. These variables were chosen from the others, because they are the most generalizable to a renter. While variables such as 'cleanliness' or high 'guest satisfaction' are important, we chose variables that were more practical, to account for the 'needs' of a renter, as oppose to extra bonuses that come with a room. \n",
    "\n",
    "Distance from the city centre and metro stations are essential variables, as the purpose of Airbnb encompasses the act of traveling. Hence, assuming we have regular travellers, it would make sense that they ought to look for locations which are closest to the city centre and public transportation. Room type and room capacity both contribute to the price enormously, as multiple rooms with more people will be priced differently than a singular bedroom for one person.\n",
    "\n",
    "With these variables, we will visualize the results with bar graphs and scatter plots. Bar graphs offers a clear comparison of price changes according to the chosen variable. From here we can find the average price and observe the relationship. Scatterplots allow us to see if there exists a correlational relationship between the chosen variable and price. We believe that these two visualizations will help us predict how Airbnb hosts choose their room prices. "
   ]
  },
  {
   "cell_type": "markdown",
   "id": "44db48ce",
   "metadata": {},
   "source": [
    "**Expected outcomes and significance:**\n",
    "\n",
    "What do you expect to find?\n",
    "What impact could such findings have?\n",
    "What future questions could this lead to?"
   ]
  },
  {
   "cell_type": "markdown",
   "id": "ff02db01",
   "metadata": {},
   "source": [
    "We expect to find that private room rentals that allow more people, are closer to the city center and closer to metro will be more expensive than ones that are farther away, and have a lower occupancy. \n",
    "\n",
    "Any impacts from this study will help Airbnb hosts determine the private room price that they charge for their rental based on the criteria we used in the study. And it will help renters gauge how much to expect to pay when they are staying in areas that are similar to those in the study.\n",
    "\n",
    "Our findings could lead to questions such as:\n",
    "Do these findings also occur in other Airbnb cities?\n",
    "Is there a difference in price for Airbnb rentals in urban areas compared to rural areas using the same criteria?"
   ]
  }
 ],
 "metadata": {
  "kernelspec": {
   "display_name": "R",
   "language": "R",
   "name": "ir"
  },
  "language_info": {
   "codemirror_mode": "r",
   "file_extension": ".r",
   "mimetype": "text/x-r-source",
   "name": "R",
   "pygments_lexer": "r",
   "version": "4.1.3"
  }
 },
 "nbformat": 4,
 "nbformat_minor": 5
}

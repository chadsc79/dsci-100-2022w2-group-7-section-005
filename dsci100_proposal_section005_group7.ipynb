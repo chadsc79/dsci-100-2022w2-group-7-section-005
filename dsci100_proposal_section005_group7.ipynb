{
 "cells": [
  {
   "cell_type": "markdown",
   "id": "2a92b66a-2b91-4070-b42d-666e45b7a7cc",
   "metadata": {},
   "source": [
    "Don't use!!"
   ]
  }
 ],
 "metadata": {
  "kernelspec": {
   "display_name": "R",
   "language": "R",
   "name": "ir"
  },
  "language_info": {
   "codemirror_mode": "r",
   "file_extension": ".r",
   "mimetype": "text/x-r-source",
   "name": "R",
   "pygments_lexer": "r",
   "version": "4.1.3"
  }
 },
 "nbformat": 4,
 "nbformat_minor": 5
}

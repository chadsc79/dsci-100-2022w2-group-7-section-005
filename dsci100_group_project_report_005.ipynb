{
 "cells": [
  {
   "cell_type": "markdown",
   "id": "e6146005-af79-4458-ba96-9eaf32056882",
   "metadata": {},
   "source": [
    "Title"
   ]
  },
  {
   "cell_type": "markdown",
   "id": "42032689-9fdb-4990-bc68-e3014e37599c",
   "metadata": {},
   "source": [
    "Introduction\n",
    "\n",
    "- Provide some relevant background information on the topic so that someone unfamiliar with it will be prepared to understand the rest of your report\n",
    "- clearly state the question you tried to answer with your project\n",
    "- identify and describe the dataset that was used to answer the question\n",
    "\n",
    "Airbnb is an online service that connects hosts with properties, to travelers that are interested in renting for short term homestays.The host of the home is the determinant of the price, but will set it according to an array of factors, such as location, view, cleaning service fee etc. For our report, we are interested in whether particular factors, such as the type of room being offered, the capacity of the rental, distance to the city center, and to the nearest metro station, influence the price, and if so, in what way. This will be that question we will try to answer, and using these factors, we will attempt to predict  the price of a private room Airbnb rental in our city of choice, being Paris, on any given weekday. \n",
    "\n",
    "The dataset we will be using is paris_weekdays.csv from Airbnb Prices in European Cities posted on https://www.kaggle.com/datasets/thedevastator/airbnb-prices-in-european-cities?resource=download&select=paris_weekdays.csv. The dataset is a .csv file with 3129 observations and 20 vector variables. We will be using 4 of the variables to make our predictions: dist, metro_dist, person_capacity, and room_type will be used to predict realSum (the price). All the variables are double (dbl) except room_type, which is a character (chr).\n"
   ]
  },
  {
   "cell_type": "markdown",
   "id": "5e4fcf71-809d-47f7-9e81-5f4d27155976",
   "metadata": {},
   "source": [
    "Methods & Results\n",
    "\n",
    "- describe in written English the methods you used to perform your analysis from beginning to end that narrates the code the does the analysis.\n",
    "- your report should include code which:\n",
    "- loads data from the original source on the web \n",
    "- wrangles and cleans the data from it's original (downloaded) format to the format necessary for the planned analysis\n",
    "- performs a summary of the data set that is relevant for exploratory data analysis related to the planned analysis \n",
    "- creates a visualization of the dataset that is relevant for exploratory data analysis related to the planned analysis\n",
    "- performs the data analysis\n",
    "- creates a visualization of the analysis \n",
    "- note: all tables and figure should have a figure/table number and a legend"
   ]
  },
  {
   "cell_type": "code",
   "execution_count": null,
   "id": "cb2722bf-499a-4353-adcf-c3e5ca55905f",
   "metadata": {
    "tags": []
   },
   "outputs": [],
   "source": [
    "library(tidyverse)\n",
    "library(repr)\n",
    "library(tidymodels)\n",
    "options(repr.matrix.max.rows = 6)\n"
   ]
  },
  {
   "cell_type": "code",
   "execution_count": null,
   "id": "f65feda4-32f2-4a47-8b02-0199aaa1f8f9",
   "metadata": {
    "tags": []
   },
   "outputs": [],
   "source": [
    "paris_dataset <- read_csv(\"https://raw.githubusercontent.com/chadsc79/dsci-100-2022w2-group-7-section-005/main/paris_weekdays.csv\")\n",
    "paris_dataset"
   ]
  },
  {
   "cell_type": "code",
   "execution_count": null,
   "id": "bf3e3536-b165-48d3-91ae-2b580e7c2ea0",
   "metadata": {},
   "outputs": [],
   "source": [
    "#select variables to predict the data and filter for private room\n",
    "paris_clean_dataset <- select(paris_dataset, dist, metro_dist, person_capacity, room_type, realSum)|>\n",
    "filter(room_type == \"Private room\") |>\n",
    "filter(person_capacity == 2)\n",
    "paris_clean_dataset"
   ]
  },
  {
   "cell_type": "code",
   "execution_count": null,
   "id": "e317d738-01b7-406a-98f9-12d55724017c",
   "metadata": {},
   "outputs": [],
   "source": [
    "#find the min/max of the training dataset\n",
    "options(digits= 4)\n",
    "min_max_prices <- summarize(paris_clean_dataset,\n",
    "          minimum_price = min(realSum),\n",
    "          maximum_price = max(realSum))\n",
    "min_max_prices"
   ]
  },
  {
   "cell_type": "code",
   "execution_count": null,
   "id": "92262e85-2f7a-4974-abdf-2d602e76684f",
   "metadata": {},
   "outputs": [],
   "source": [
    "#create price ranges to be predicted with the training set\n",
    "paris_clean_dataset$price_range <- cut(paris_clean_dataset$realSum, breaks = c(0, 150, 250, 500, 1000, 2000, 5000, 10000, 15000))\n",
    "paris_clean_dataset"
   ]
  },
  {
   "cell_type": "code",
   "execution_count": null,
   "id": "037a1915-e798-4ddc-aeec-366946488b8c",
   "metadata": {},
   "outputs": [],
   "source": [
    "#find the training set average of each variable\n",
    "options(digits=4)\n",
    "summarized_paris_dataset <- summarize(paris_clean_dataset,\n",
    "                                      avg_dist = mean(dist),\n",
    "                                      avg_metro_dist = mean(metro_dist),\n",
    "                                      avg_price = mean(realSum))\n",
    "summarized_paris_dataset"
   ]
  },
  {
   "cell_type": "code",
   "execution_count": null,
   "id": "98cf919a-6690-4d77-a8c2-4d7813b089c4",
   "metadata": {},
   "outputs": [],
   "source": [
    "#scatterplot of distance from the city centre and distance from the metro for private room types for private rooms, categorized by price\n",
    "options(repr.plot.width = 14, repr.plot.height = 8)\n",
    "dataset_visual <- paris_clean_dataset|>\n",
    "ggplot( aes(x = dist, y = metro_dist, color = price_range))+\n",
    "geom_point(alpha = 0.4) +\n",
    "labs(x = \"Distance from the city centre\", y = \"Distance from the metro\", color = \"Price\")\n",
    "dataset_visual"
   ]
  },
  {
   "cell_type": "code",
   "execution_count": null,
   "id": "de4f8934-4da9-4da7-a8af-bb0be84dd7a4",
   "metadata": {},
   "outputs": [],
   "source": [
    "#split the data into a testing set and a training set\n",
    "set.seed(250)\n",
    "\n",
    "paris_split <- initial_split(paris_clean_dataset, prop = .75, strata = price_range)  \n",
    "paris_train <- training(paris_split) \n",
    "\n",
    "paris_test <- testing(paris_split)\n",
    "paris_train"
   ]
  },
  {
   "cell_type": "code",
   "execution_count": null,
   "id": "8400bda0-a5ff-4771-89eb-b2e0cfb2a7c3",
   "metadata": {},
   "outputs": [],
   "source": [
    "#pre-process the data\n",
    "paris_recipe <- recipe(price_range ~., data = paris_train) |>\n",
    "  step_scale(all_predictors()) |>\n",
    "  step_center(all_predictors())\n",
    "\n",
    "#tune classifier\n",
    "knn_spec <- nearest_neighbor(weight_func = \"rectangular\", neighbors = tune()) |> \n",
    "         set_engine(\"kknn\") |>  \n",
    "         set_mode(\"classification\")\n",
    "\n",
    "#create a tible for the k values\n",
    "k_vals <- tibble(neighbors = seq(from = 1, to = 20, by = 2))\n",
    "\n",
    "#making a v-fold\n",
    "paris_vfold <- vfold_cv(paris_train, v = 5, strata = price_range)\n",
    "\n",
    "#creating a workflow and and labels\n",
    "knn_results <- workflow() |>\n",
    "  add_recipe(paris_recipe) |>\n",
    "  add_model(knn_spec) |>\n",
    "  tune_grid(resamples = paris_vfold, grid = k_vals) |>\n",
    "  collect_metrics()\n",
    "knn_results\n",
    "\n",
    "#Calculating accuracies\n",
    "accuracies <- knn_results |>\n",
    "  filter(.metric == \"accuracy\")\n",
    "\n",
    "# Plot of k values against their respective accuracies\n",
    "cross_val_plot <- accuracies |> \n",
    "    ggplot(aes(x = neighbors, y = mean)) +\n",
    "    geom_point() +\n",
    "    geom_line() +\n",
    "    labs(x = \"Neighbors\", y = \"Accuracy Estimate\") +\n",
    "    theme(text = element_text(size = 20))"
   ]
  },
  {
   "cell_type": "markdown",
   "id": "3611ae00-1a29-4930-876d-aa976d2dd7b1",
   "metadata": {},
   "source": [
    "Discussion\n",
    "\n",
    "- summarize what you found\n",
    "- discuss whether this is what you expected to find?\n",
    "- discuss what impact could such findings have?\n",
    "- discuss what future questions could this lead to?"
   ]
  },
  {
   "cell_type": "markdown",
   "id": "eaf68523-14fa-4741-aed3-6c6b5a25cc3a",
   "metadata": {},
   "source": [
    "References\n",
    "\n",
    "- At least 2 citations of literature relevant to the project (format is your choice, just be consistent across the references).\n",
    "- Make sure to cite the source of your data as well."
   ]
  }
 ],
 "metadata": {
  "kernelspec": {
   "display_name": "R",
   "language": "R",
   "name": "ir"
  },
  "language_info": {
   "codemirror_mode": "r",
   "file_extension": ".r",
   "mimetype": "text/x-r-source",
   "name": "R",
   "pygments_lexer": "r",
   "version": "4.1.3"
  }
 },
 "nbformat": 4,
 "nbformat_minor": 5
}

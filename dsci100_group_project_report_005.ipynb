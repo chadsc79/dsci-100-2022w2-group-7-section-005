{
 "cells": [
  {
   "cell_type": "markdown",
   "id": "e6146005-af79-4458-ba96-9eaf32056882",
   "metadata": {},
   "source": [
    "Title"
   ]
  },
  {
   "cell_type": "markdown",
   "id": "42032689-9fdb-4990-bc68-e3014e37599c",
   "metadata": {},
   "source": [
    "Introduction\n",
    "\n",
    "- Provide some relevant background information on the topic so that someone unfamiliar with it will be prepared to understand the rest of your report\n",
    "- clearly state the question you tried to answer with your project\n",
    "- identify and describe the dataset that was used to answer the question\n",
    "\n",
    "Airbnb is an online service that connects hosts with properties, to travelers that are interested in renting for short term homestays.The host of the home is the determinant of the price, but will set it according to an array of factors, such as location, view, cleaning service fee etc. For our report, we are interested in whether particular factors, such as the capacity of the rental, distance to the city center, and to the nearest metro station, influenced the price. We will use these predictors to help us predict the the price of a private room Airbnb rental in Paris on any given weekday. \n",
    "\n",
    "The dataset we will be using is paris_weekdays.csv from Airbnb Prices in European Cities posted on https://www.kaggle.com/datasets/thedevastator/airbnb-prices-in-european-cities?resource=download&select=paris_weekdays.csv. The dataset is a .csv file with 3129 observations and 20 vector variables. We will be using 6 of the variables to make our predictions: dist, metro_dist, person_capacity, and room_type will be used to predict realSum. All the variables are double (dbl) except room_type, which is a character (chr).\n"
   ]
  },
  {
   "cell_type": "markdown",
   "id": "5e4fcf71-809d-47f7-9e81-5f4d27155976",
   "metadata": {},
   "source": [
    "Methods & Results\n",
    "\n",
    "- describe in written English the methods you used to perform your analysis from beginning to end that narrates the code the does the analysis.\n",
    "- your report should include code which:\n",
    "- loads data from the original source on the web \n",
    "- wrangles and cleans the data from it's original (downloaded) format to the format necessary for the planned analysis\n",
    "- performs a summary of the data set that is relevant for exploratory data analysis related to the planned analysis \n",
    "- creates a visualization of the dataset that is relevant for exploratory data analysis related to the planned analysis\n",
    "- performs the data analysis\n",
    "- creates a visualization of the analysis \n",
    "- note: all tables and figure should have a figure/table number and a legend"
   ]
  },
  {
   "cell_type": "markdown",
   "id": "3611ae00-1a29-4930-876d-aa976d2dd7b1",
   "metadata": {},
   "source": [
    "Discussion\n",
    "\n",
    "- summarize what you found\n",
    "- discuss whether this is what you expected to find?\n",
    "- discuss what impact could such findings have?\n",
    "- discuss what future questions could this lead to?"
   ]
  },
  {
   "cell_type": "markdown",
   "id": "eaf68523-14fa-4741-aed3-6c6b5a25cc3a",
   "metadata": {},
   "source": [
    "References\n",
    "\n",
    "- At least 2 citations of literature relevant to the project (format is your choice, just be consistent across the references).\n",
    "- Make sure to cite the source of your data as well."
   ]
  }
 ],
 "metadata": {
  "kernelspec": {
   "display_name": "R",
   "language": "R",
   "name": "ir"
  },
  "language_info": {
   "codemirror_mode": "r",
   "file_extension": ".r",
   "mimetype": "text/x-r-source",
   "name": "R",
   "pygments_lexer": "r",
   "version": "4.1.3"
  }
 },
 "nbformat": 4,
 "nbformat_minor": 5
}

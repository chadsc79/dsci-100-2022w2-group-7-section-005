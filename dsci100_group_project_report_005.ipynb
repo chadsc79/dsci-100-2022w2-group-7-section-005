{
 "cells": [
  {
   "cell_type": "markdown",
   "id": "e6146005-af79-4458-ba96-9eaf32056882",
   "metadata": {},
   "source": [
    "**Title**"
   ]
  },
  {
   "cell_type": "markdown",
   "id": "2f368835-afc3-4a3e-80c5-dd6de174948e",
   "metadata": {},
   "source": [
    "Predicting the real price of a two-person private room for a Parisian Airbnb rental on a weekday"
   ]
  },
  {
   "cell_type": "markdown",
   "id": "0950067f-aa12-4e67-a210-d8f03bd49015",
   "metadata": {},
   "source": [
    "**Introduction**"
   ]
  },
  {
   "cell_type": "markdown",
   "id": "42032689-9fdb-4990-bc68-e3014e37599c",
   "metadata": {},
   "source": [
    "Airbnb is an online service that connects hosts with properties for rent to travellers interested in renting short-term homestays. The host of the home is the determinant of the price but will set it according to an array of factors, such as location, view, and cleaning service fee. \n",
    "\n",
    "***We are interested in whether factors such as the distance to the city centre and the nearest metro station influence the price of an Airbnb rental in Paris on a weekday***. This will be the question we will try to answer, and using these factors, we will see its influence in the city of our choice, Paris, for a private 2 person room on any given weekday. \n",
    "\n",
    "According to Jones (2023), particularly the factors of public transportation and to the city centre play a great deal in convenience when it comes to travel. Paul Swinney, a writer at the Guardian, even stated that proximity to the city centre drives up renting costs, given the higher productivity and economic activity associated with the city (Swinney, 2011). Because of the importance of these factors, with convenience, efficacy, and overall higher enjoyment of the city at the heart of it, we decided to choose these variables to analyze the price of our rental. \n",
    "\n",
    "In order to see the relationship between these variables and the Airbnb rental price, we will be analyzing the paris_weekdays.csv dataset from Airbnb Prices in European Cities posted on the Kaggle website (https://www.kaggle.com/datasets/thedevastator/airbnb-prices-in-european-cities?resource=download&select=paris_weekdays.csv) (Gyódi & Nawaro, 2021). The dataset is a .csv file with 3129 observations and twenty vector variables. We will be using four of the variables in our analysis, we'll be using two of them, the capacity of the rental property (person_capacity), and the type of room of the rental (room_type) to filter the dataset and two others, the distance to the city centre (dist) and the distance to a metro station (metro_dist) to predict the price of the rental property (realSum). All the variables are double (dbl) except room_type, which is a character (chr)."
   ]
  },
  {
   "cell_type": "markdown",
   "id": "32112cb6-9a73-4492-a3ee-07e414ca7cc5",
   "metadata": {},
   "source": [
    "**Methods & Results**"
   ]
  },
  {
   "cell_type": "markdown",
   "id": "5e4fcf71-809d-47f7-9e81-5f4d27155976",
   "metadata": {},
   "source": [
    "*Methods*"
   ]
  },
  {
   "cell_type": "code",
   "execution_count": 4,
   "id": "cb2722bf-499a-4353-adcf-c3e5ca55905f",
   "metadata": {
    "tags": []
   },
   "outputs": [
    {
     "ename": "ERROR",
     "evalue": "Error in library(tidymodels): there is no package called ‘tidymodels’\n",
     "output_type": "error",
     "traceback": [
      "Error in library(tidymodels): there is no package called ‘tidymodels’\nTraceback:\n",
      "1. library(tidymodels)"
     ]
    }
   ],
   "source": [
    "#load in packages needed for analysis\n",
    "set.seed(250)\n",
    "\n",
    "library(tidyverse)\n",
    "library(repr)\n",
    "library(tidymodels)\n",
    "\n",
    "options(repr.matrix.max.rows = 6)"
   ]
  },
  {
   "cell_type": "code",
   "execution_count": null,
   "id": "f65feda4-32f2-4a47-8b02-0199aaa1f8f9",
   "metadata": {
    "tags": []
   },
   "outputs": [],
   "source": [
    "#read in Paris dataset from website to jupyter notebook\n",
    "paris_dataset <- read_csv(\n",
    "    \"https://raw.githubusercontent.com/chadsc79/dsci-100-2022w2-group-7-section-005/main/paris_weekdays.csv\")\n",
    "paris_dataset"
   ]
  },
  {
   "cell_type": "markdown",
   "id": "78ef2595-5e31-428f-a4f4-28f64db34027",
   "metadata": {},
   "source": [
    "**Table 1.** The dataset of Airbnb rentals for Paris on a weekday."
   ]
  },
  {
   "cell_type": "markdown",
   "id": "3dbd3c91-b5c6-45c1-9de5-2d2f1ab24a7a",
   "metadata": {},
   "source": [
    "We wrangled our data to include only the columns we will be using for our analysis, such as \"dist,\" \"metro_dist,\" \"person_capacity,\" \"room_type,\" and \"realSum\". Furthermore, we filtered it to include only the \"Private room\" data, where capacity is two, as this is the most prevalent capacity for the room_type of interest."
   ]
  },
  {
   "cell_type": "code",
   "execution_count": null,
   "id": "bf3e3536-b165-48d3-91ae-2b580e7c2ea0",
   "metadata": {
    "tags": []
   },
   "outputs": [],
   "source": [
    "#select variables to predict the data and filter for private room and two-person capacity\n",
    "paris_clean_dataset <- select(paris_dataset, dist, metro_dist, person_capacity, room_type, realSum)|>\n",
    "    filter(room_type == \"Private room\") |>\n",
    "    filter(person_capacity == 2)\n",
    "paris_clean_dataset"
   ]
  },
  {
   "cell_type": "markdown",
   "id": "22781973-c833-46ba-879f-8ff579957574",
   "metadata": {},
   "source": [
    "We found minimum and maximum prices in our data to divide realSum into acceptable ranges for the classification analysis."
   ]
  },
  {
   "cell_type": "code",
   "execution_count": null,
   "id": "e317d738-01b7-406a-98f9-12d55724017c",
   "metadata": {
    "tags": []
   },
   "outputs": [],
   "source": [
    "#find the min/max of the training dataset\n",
    "options(digits = 4)\n",
    "\n",
    "min_max_prices <- summarize(paris_clean_dataset,\n",
    "          minimum_price = min(realSum),\n",
    "          maximum_price = max(realSum))\n",
    "min_max_prices"
   ]
  },
  {
   "cell_type": "markdown",
   "id": "8c139597-d126-48b3-ace2-8a2cd0224e58",
   "metadata": {},
   "source": [
    "**Table 2.** Paris dataset filtered for private rooms with a two-person capacity using distance to the city centre (dist), distance to a metro station (metro_dist), and price of the Airbnb rental (realSum)."
   ]
  },
  {
   "cell_type": "markdown",
   "id": "75aa42ce-fd5e-4781-9b17-a61b5e69c50a",
   "metadata": {},
   "source": [
    "Based on the minimum and maximum prices found, we created a new column, \"price_range,\" to be used for the classification."
   ]
  },
  {
   "cell_type": "code",
   "execution_count": 2,
   "id": "92262e85-2f7a-4974-abdf-2d602e76684f",
   "metadata": {
    "tags": []
   },
   "outputs": [
    {
     "ename": "ERROR",
     "evalue": "Error in cut(paris_clean_dataset$realSum, breaks = c(0, 200, 500, 1000, : object 'paris_clean_dataset' not found\n",
     "output_type": "error",
     "traceback": [
      "Error in cut(paris_clean_dataset$realSum, breaks = c(0, 200, 500, 1000, : object 'paris_clean_dataset' not found\nTraceback:\n",
      "1. cut(paris_clean_dataset$realSum, breaks = c(0, 200, 500, 1000, \n .     2000, 15000))"
     ]
    }
   ],
   "source": [
    "#create price ranges to be predicted with the training set\n",
    "paris_clean_dataset$price_range <- cut(paris_clean_dataset$realSum, breaks = c(0, 200, 500, 1000,2000, 15000))\n",
    "paris_clean_dataset"
   ]
  },
  {
   "cell_type": "markdown",
   "id": "cc42cc8e-aa5c-464d-9a39-f5f415e998aa",
   "metadata": {},
   "source": [
    "**Table 3.** Dataset including the new column, price range (price_range)."
   ]
  },
  {
   "cell_type": "code",
   "execution_count": 3,
   "id": "037a1915-e798-4ddc-aeec-366946488b8c",
   "metadata": {
    "tags": []
   },
   "outputs": [
    {
     "ename": "ERROR",
     "evalue": "Error in summarize(paris_clean_dataset, avg_dist = mean(dist), avg_metro_dist = mean(metro_dist), : object 'paris_clean_dataset' not found\n",
     "output_type": "error",
     "traceback": [
      "Error in summarize(paris_clean_dataset, avg_dist = mean(dist), avg_metro_dist = mean(metro_dist), : object 'paris_clean_dataset' not found\nTraceback:\n",
      "1. summarize(paris_clean_dataset, avg_dist = mean(dist), avg_metro_dist = mean(metro_dist), \n .     avg_price = mean(realSum))"
     ]
    }
   ],
   "source": [
    "#find the training set average of each variable\n",
    "options(digits = 4)\n",
    "\n",
    "summarized_paris_dataset <- summarize(paris_clean_dataset,\n",
    "                                      avg_dist = mean(dist),\n",
    "                                      avg_metro_dist = mean(metro_dist),\n",
    "                                      avg_price = mean(realSum))\n",
    "summarized_paris_dataset"
   ]
  },
  {
   "cell_type": "markdown",
   "id": "16a80be1-8343-4607-b7b5-065703fec1c2",
   "metadata": {},
   "source": [
    "**Table 4.** Average distance to the city centre (avg_dist), the average distance to a metro station (avg_metro_dist), and average price (avg_price) of the Paris weekday dataset."
   ]
  },
  {
   "cell_type": "code",
   "execution_count": null,
   "id": "98cf919a-6690-4d77-a8c2-4d7813b089c4",
   "metadata": {},
   "outputs": [],
   "source": [
    "#scatterplot of distance from the city centre and distance from the metro for private room types, categorized by price\n",
    "options(repr.plot.width = 14, repr.plot.height = 8)\n",
    "\n",
    "dataset_visual <- paris_clean_dataset|>\n",
    "    ggplot( aes(x = dist, y = metro_dist, color = price_range))+\n",
    "    geom_point(alpha = 0.4) +\n",
    "    labs(x = \"Distance from the city centre\", y = \"Distance from the metro\", color = \"Price range\")+\n",
    "    ggtitle(\"Distance from the city centre vs distance from the metro for Airbnb's classified by price range\")+\n",
    "    theme(axis.text = element_text(size = 15),\n",
    "    axis.title = element_text(size = 15),\n",
    "    plot.title = element_text(size = 18))\n",
    "dataset_visual"
   ]
  },
  {
   "cell_type": "markdown",
   "id": "8b331374-0bc2-4492-953f-2b3494bff2ae",
   "metadata": {},
   "source": [
    "**Figure 1.** The graph plots the distance from the city centre on the x-axis against the distance from the metro on the y-axis. We are using the price range to differentiate the points to see whether the Airbnb available with particular conditions falls in a cheaper price range or not. Here we can see the points in the lower left corner have the most favourable conditions according to a general person since these points have the least distance from transportation and the city centre. However, even though these points have favourable conditions, most belong to the cheaper end of the spectrum. One thing to note is that our average price is 274 which falls in the (200,500] price bracket. Even though the points in the left corner may seem to be on the cheaper end of the spectrum, from the graph, it can be seen that most of the points are green, so they are near the average."
   ]
  },
  {
   "cell_type": "markdown",
   "id": "6b71dec8-a285-406f-b6d8-af2a561db18d",
   "metadata": {},
   "source": [
    "We have split our data into training and testing sets to evaluate the performance of the model on unseen data. The primary purpose is to prevent overfitting and ensure the model generalizes well to new, unseen data."
   ]
  },
  {
   "cell_type": "code",
   "execution_count": null,
   "id": "de4f8934-4da9-4da7-a8af-bb0be84dd7a4",
   "metadata": {},
   "outputs": [],
   "source": [
    "#split the data into a testing set and a training set\n",
    "\n",
    "paris_split <- initial_split(paris_clean_dataset, prop = .80, strata = price_range)  \n",
    "\n",
    "paris_test <- testing(paris_split)\n",
    "\n",
    "paris_train <- training(paris_split)\n",
    "paris_train"
   ]
  },
  {
   "cell_type": "markdown",
   "id": "98b89f9d-dd10-4546-909b-fddd9fdb68d6",
   "metadata": {},
   "source": [
    "**Table 5.** The Paris training dataset used to train the K-value."
   ]
  },
  {
   "cell_type": "code",
   "execution_count": null,
   "id": "8400bda0-a5ff-4771-89eb-b2e0cfb2a7c3",
   "metadata": {
    "tags": []
   },
   "outputs": [],
   "source": [
    "#pre-process the data\n",
    "paris_recipe <- recipe(price_range ~ dist + metro_dist, data = paris_train) |>\n",
    "  step_scale(all_predictors()) |>\n",
    "  step_center(all_predictors())\n",
    "\n",
    "#tune classifier\n",
    "knn_spec <- nearest_neighbor(weight_func = \"rectangular\", neighbors = tune()) |> \n",
    "         set_engine(\"kknn\") |>  \n",
    "         set_mode(\"classification\")\n",
    "\n",
    "#create a tibble for the k values\n",
    "k_vals <- tibble(neighbors = seq(from = 1, to = 40, by = 2))\n",
    "\n",
    "#make a v-fold\n",
    "paris_vfold <- vfold_cv(paris_train, v = 10, strata = price_range)\n",
    "\n",
    "#create a workflow and labels\n",
    "knn_results <- workflow() |>\n",
    "  add_recipe(paris_recipe) |>\n",
    "  add_model(knn_spec) |>\n",
    "  tune_grid(resamples = paris_vfold, grid = k_vals) |>\n",
    "  collect_metrics()\n",
    "knn_results"
   ]
  },
  {
   "cell_type": "markdown",
   "id": "1d1584b7-2927-4264-b072-0796f5946869",
   "metadata": {},
   "source": [
    "**Table 6.** The results of the workflow using a vfold of 10."
   ]
  },
  {
   "cell_type": "code",
   "execution_count": 5,
   "id": "17bc58d1-9e97-4c24-9718-7a958ffde6aa",
   "metadata": {},
   "outputs": [
    {
     "ename": "ERROR",
     "evalue": "Error in filter(knn_results, .metric == \"accuracy\"): object 'knn_results' not found\n",
     "output_type": "error",
     "traceback": [
      "Error in filter(knn_results, .metric == \"accuracy\"): object 'knn_results' not found\nTraceback:\n",
      "1. filter(knn_results, .metric == \"accuracy\")"
     ]
    }
   ],
   "source": [
    "#calculate accuracies\n",
    "accuracies <- knn_results |>\n",
    "  filter(.metric == \"accuracy\") \n",
    "accuracies"
   ]
  },
  {
   "cell_type": "markdown",
   "id": "8e41f147-9a9c-42df-93f4-6b7ee57c4bd9",
   "metadata": {},
   "source": [
    "**Table 7.** Table of the accuracy of K-neighbours using the standard error (std_err)."
   ]
  },
  {
   "cell_type": "code",
   "execution_count": 6,
   "id": "a6d85db2-d797-4923-adfb-cec9db7f8b54",
   "metadata": {},
   "outputs": [
    {
     "ename": "ERROR",
     "evalue": "Error in ggplot(accuracies, aes(x = neighbors, y = mean)): object 'accuracies' not found\n",
     "output_type": "error",
     "traceback": [
      "Error in ggplot(accuracies, aes(x = neighbors, y = mean)): object 'accuracies' not found\nTraceback:\n",
      "1. ggplot(accuracies, aes(x = neighbors, y = mean))"
     ]
    }
   ],
   "source": [
    "#plot of k values against their respective accuracies\n",
    "cross_val_plot <- accuracies |> \n",
    "    ggplot(aes(x = neighbors, y = mean)) +\n",
    "    geom_point() +\n",
    "    geom_line() +\n",
    "    labs(x = \"Neighbours\", y = \"Accuracy Estimate\") +\n",
    "    ggtitle(\"Estimated accuracy versus the number of neighbors\") +\n",
    "    theme(axis.text = element_text(size = 15),\n",
    "    axis.title = element_text(size = 15),\n",
    "    plot.title = element_text(size = 18)) \n",
    "cross_val_plot"
   ]
  },
  {
   "cell_type": "markdown",
   "id": "3fca5b36-9276-41f7-9af9-ae54072a824b",
   "metadata": {},
   "source": [
    "**Figure 2.** Plot of the estimated accuracy for each K value. "
   ]
  },
  {
   "cell_type": "code",
   "execution_count": 7,
   "id": "bf3e86af-a14e-4272-8eed-63bce2d98a17",
   "metadata": {},
   "outputs": [
    {
     "ename": "ERROR",
     "evalue": "Error in set_mode(set_engine(nearest_neighbor(weight_func = \"rectangular\", : could not find function \"set_mode\"\n",
     "output_type": "error",
     "traceback": [
      "Error in set_mode(set_engine(nearest_neighbor(weight_func = \"rectangular\", : could not find function \"set_mode\"\nTraceback:\n"
     ]
    }
   ],
   "source": [
    "#tune the classifier with optimal k value\n",
    "knn_best_spec <- nearest_neighbor(weight_func = \"rectangular\", neighbors = 25) |>\n",
    "  set_engine(\"kknn\") |>\n",
    "  set_mode(\"classification\")\n",
    "\n",
    "#create a workflow\n",
    "paris_fit <- workflow() |>\n",
    "  add_recipe(paris_recipe) |>\n",
    "  add_model(knn_best_spec) |>\n",
    "  fit(data = paris_train)\n",
    "\n",
    "#get the prediction column\n",
    "paris_predictions <- predict(paris_fit, paris_test) |> \n",
    "    bind_cols(paris_test)\n",
    "paris_predictions"
   ]
  },
  {
   "cell_type": "markdown",
   "id": "dd931dfa-9093-4b21-b5f9-6dfa3fef2fa8",
   "metadata": {},
   "source": [
    "**Table 8.** Predictions of the price of the Airbnb rentals in Paris on a weekday using an optimized K value of 25."
   ]
  },
  {
   "cell_type": "code",
   "execution_count": null,
   "id": "0009e43e-c352-40fa-9d41-352a28ab6c7a",
   "metadata": {},
   "outputs": [],
   "source": [
    "#compare the accuracy of predictions to the true values in the test set\n",
    "paris_acc <- paris_predictions |> \n",
    "    metrics(truth = price_range, estimate = .pred_class) |> \n",
    "    select(.metric, .estimate) |> \n",
    "    head(1)\n",
    "paris_acc"
   ]
  },
  {
   "cell_type": "markdown",
   "id": "8c0037e0-1877-47fc-8918-98a22546a04b",
   "metadata": {},
   "source": [
    "**Table 9.** The reported accuracy estimate of the K value selected for analysis."
   ]
  },
  {
   "cell_type": "markdown",
   "id": "f958180c-7e81-469d-9116-04b1bf072f15",
   "metadata": {},
   "source": [
    "*Results*"
   ]
  },
  {
   "cell_type": "markdown",
   "id": "051beeab-7b26-4815-bd49-f71622294dd8",
   "metadata": {},
   "source": [
    "Using a v-fold of ten on the Paris weekday training data, the optimal K-value found was 25. There resultant accuracy of the data analysis using a K-value of 25 was found to be 0.5659. Even though this K-value did not have the highest accuracy, it was used since there was not a drastic change in the accuracy of its neighbours (Figure 2). Sometimes the accuracy spiked up because we are using ten folds here, so the same data is getting used again. Hence, a K-value with relatively stable accuracy amongst the surrounding K-values is better."
   ]
  },
  {
   "cell_type": "markdown",
   "id": "3611ae00-1a29-4930-876d-aa976d2dd7b1",
   "metadata": {},
   "source": [
    "**Discussion**"
   ]
  },
  {
   "cell_type": "markdown",
   "id": "3e4ec286-c275-410b-9d49-1ceb1b2ce411",
   "metadata": {},
   "source": [
    "Through our analysis of predicting the price of a two-person private room in Paris on a weekday, we found that the distance from the Airbnb rental to the city centre and the distance to the nearest metro station helped predict the actual price. We expected private room rentals with a two-person capacity closer to the city centre and closer to the metro would be more expensive than those farther away. However, the optimized k-value we used in our analysis gave us a low accuracy. We expected to have a higher accuracy to be sure about the determinates predicting the price range of an Airbnb rental. \n",
    "\n",
    "This may indicate that other factors beyond distance to the city centre and distance to the metro station affect the price of an Airbnb rental. According to Zhang et al. (2017), other factors that increase the price of an Airbnb rental include: the rental having a positive Airbnb reputation via positive reviews, the rental having many reviews, and the distance from the rental to landmarks (not just city centre and metro stations). Also, host and rental attributes, rental amenities and services, and rules regarding the rental all affect the price. Not including some or all of these factors affects the accuracy of the analysis, thus causing lower accuracy.\n",
    "\n",
    "Any impacts from this study will help Airbnb hosts determine the private room price that they charge for their rental based on the criteria we used in the study. It will also help renters gauge how much to expect to pay when staying in areas similar to those in the study. This will also help Airbnb focus its advertising on criteria that matters to renters and hosts to create more business, increasing their profits.\n",
    "\n",
    "Using the factors we did to determine the price of Airbnb rentals and the low accuracy returned may lead Airbnb, Airbnb renters or hosts, or other interested parties to ask questions such as:\n",
    "\n",
    "Are there better price predictors for an Airbnb rental that were not used, such as cleanliness rating and overall guest satisfaction? Do these findings also occur in other Airbnb cities? Is there a difference in price for Airbnb rentals in urban areas compared to rural areas using the same criteria? Do the same criteria for weekday rental prices also apply to weekend rentals?"
   ]
  },
  {
   "cell_type": "markdown",
   "id": "eaf68523-14fa-4741-aed3-6c6b5a25cc3a",
   "metadata": {},
   "source": [
    "**References**"
   ]
  },
  {
   "cell_type": "markdown",
   "id": "ddfb26ed-ba5a-4088-ab77-d45826b23ec7",
   "metadata": {},
   "source": [
    "Jones, R. (2022, October 3). How to find the best location for your next Airbnb - AirHost Academy. AirHost Academy - The Airbnb Host Blog for Tips and Secrets. Retrieved April 9, 2023, from https://airhostacademy.com/how-to-find-the-best-location-for-your-next-airbnb/ \n",
    "\n",
    "Gyódi, K., & Nawaro, Ł. (2021, April 8). Airbnb Prices in European Cities: Determinants of Price by Room Type, Location, Cleanliness Rating, and More. Retrieved February 20, 2023, from https://www.kaggle.com/datasets/thedevastator/airbnb-prices-in-european-cities?resource=download&amp;select=paris_weekdays.csv. \n",
    "\n",
    "Swinney, P. (2011, November 9). Statsblog: What role do city centres play in local economic growth? The Guardian. Retrieved April 9, 2023, from https://www.theguardian.com/local-government-network/statsblog/2011/nov/09/statsblog-role-of-city-centres \n",
    "\n",
    "Zhang, Z., Chen, R., Han, L., & Yang, L. (2017). Key Factors Affecting the Price of Airbnb Listings: A Geographically Weighted Approach. Sustainability, 9(9), 1635. https://doi.org/10.3390/su9091635"
   ]
  },
  {
   "cell_type": "code",
   "execution_count": null,
   "id": "374ba524-7b60-4def-9400-ea9543831fc7",
   "metadata": {},
   "outputs": [],
   "source": []
  }
 ],
 "metadata": {
  "kernelspec": {
   "display_name": "R",
   "language": "R",
   "name": "ir"
  },
  "language_info": {
   "codemirror_mode": "r",
   "file_extension": ".r",
   "mimetype": "text/x-r-source",
   "name": "R",
   "pygments_lexer": "r",
   "version": "4.2.3"
  },
  "toc-showmarkdowntxt": false
 },
 "nbformat": 4,
 "nbformat_minor": 5
}
